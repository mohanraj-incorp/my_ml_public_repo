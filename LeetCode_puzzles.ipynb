{
 "cells": [
  {
   "cell_type": "code",
   "execution_count": null,
   "id": "db1096e4-0d65-49c6-a59b-763cdeae0d40",
   "metadata": {},
   "outputs": [],
   "source": [
    "#2nd Highets Salary\n",
    "import pandas as pd\n",
    "\n",
    "def second_highest_salary(employee: pd.DataFrame) -> pd.DataFrame:\n",
    "    # Filter out null salaries and get unique salaries\n",
    "    salaryDF = employee['salary'].dropna().drop_duplicates()\n",
    "    if len(salaryDF) <2 :\n",
    "        return pd.DataFrame({'SecondHighestSalary':[None]})\n",
    "    sal=salaryDF.sort_values(ascending=[False]).iloc[1]\n",
    "    return pd.DataFrame({'SecondHighestSalary':[sal]})\n"
   ]
  },
  {
   "cell_type": "code",
   "execution_count": null,
   "id": "538ee450-9fb1-44f9-aa72-293ddbbd2883",
   "metadata": {},
   "outputs": [],
   "source": [
    "#Customer who never order\n",
    "import pandas as pd\n",
    "\n",
    "def find_customers(customers: pd.DataFrame, orders: pd.DataFrame) -> pd.DataFrame:\n",
    "     orders.rename(columns={'id': 'od_id'}, inplace=True)\n",
    "     df_join=pd.merge(customers,orders,left_on=['id'],right_on=['customerId'],how='left')\n",
    "     unorder_df = df_join[df_join['od_id'].isna()]\n",
    "     unorder_df=unorder_df.drop_duplicates()\n",
    "     df= pd.DataFrame(unorder_df['name'].values.reshape(-1,1))\n",
    "     df.columns=['Customers']\n",
    "     return(df)"
   ]
  },
  {
   "cell_type": "code",
   "execution_count": 38,
   "id": "82af2e6e-f13f-42e6-8789-19239ead1b39",
   "metadata": {},
   "outputs": [
    {
     "name": "stdout",
     "output_type": "stream",
     "text": [
      "<class 'pandas.core.frame.DataFrame'>\n",
      "RangeIndex: 5 entries, 0 to 4\n",
      "Data columns (total 4 columns):\n",
      " #   Column        Non-Null Count  Dtype \n",
      "---  ------        --------------  ----- \n",
      " 0   player_id     5 non-null      int64 \n",
      " 1   device_id     5 non-null      int64 \n",
      " 2   event_date    5 non-null      object\n",
      " 3   games_played  5 non-null      int64 \n",
      "dtypes: int64(3), object(1)\n",
      "memory usage: 292.0+ bytes\n"
     ]
    }
   ],
   "source": [
    "import pandas as pd\n",
    "\n",
    "activity=pd.read_csv(r\"C:\\Users\\Sowmya\\Desktop\\1_Python_learning\\Purdue AIML\\Python_Puzzles\\game_play_data - Sheet1.csv\")\n",
    "activity['event_date']=pd.to_datetime(activity['event_date'])\n",
    "activity['event_date']=activity['event_date'].dt.date\n",
    "activity.info()\n"
   ]
  },
  {
   "cell_type": "code",
   "execution_count": 60,
   "id": "dec45d11-5270-4cdb-85be-dc5a7eff7935",
   "metadata": {},
   "outputs": [
    {
     "name": "stdout",
     "output_type": "stream",
     "text": [
      "<class 'pandas.core.frame.DataFrame'>\n",
      "RangeIndex: 5 entries, 0 to 4\n",
      "Data columns (total 7 columns):\n",
      " #   Column        Non-Null Count  Dtype         \n",
      "---  ------        --------------  -----         \n",
      " 0   sailor_id     5 non-null      int64         \n",
      " 1   device_id     5 non-null      int64         \n",
      " 2   event_date    5 non-null      datetime64[ns]\n",
      " 3   games_played  5 non-null      int64         \n",
      " 4   nxt_login_dt  2 non-null      datetime64[ns]\n",
      " 5   dt_diff       2 non-null      float64       \n",
      " 6   rnk           5 non-null      int64         \n",
      "dtypes: datetime64[ns](2), float64(1), int64(4)\n",
      "memory usage: 412.0 bytes\n"
     ]
    }
   ],
   "source": [
    "activity.info()"
   ]
  },
  {
   "cell_type": "code",
   "execution_count": 78,
   "id": "008a4f8d-d841-4c7c-b0ed-9cda165668fb",
   "metadata": {},
   "outputs": [
    {
     "name": "stdout",
     "output_type": "stream",
     "text": [
      "[7]\n"
     ]
    }
   ],
   "source": [
    "df =activity\n",
    "#df.rename(columns={'player_id': 'sailor_id'}, inplace=True)\n",
    "sum=df.agg({'rnk':['sum']})\n",
    "print(sum.iloc[0].values)"
   ]
  },
  {
   "cell_type": "code",
   "execution_count": 48,
   "id": "7637923e-f151-4e43-b792-19a4390c74bd",
   "metadata": {},
   "outputs": [
    {
     "name": "stdout",
     "output_type": "stream",
     "text": [
      "0.33\n"
     ]
    }
   ],
   "source": [
    "import pandas as pd\n",
    "\n",
    "activity=pd.read_csv(r\"C:\\Users\\Sowmya\\Desktop\\1_Python_learning\\Purdue AIML\\Python_Puzzles\\game_play_data - Sheet1.csv\")\n",
    "activity['event_date']=pd.to_datetime(activity['event_date'])\n",
    "activity['nxt_login_dt']=activity.sort_values(['event_date'],ascending=[True]).groupby(['player_id'])['event_date'].shift(-1)\n",
    "activity['dt_diff']= (activity['nxt_login_dt']-activity['event_date']).dt.days\n",
    "activity['rnk']=activity.sort_values(['event_date'],ascending=[True]).groupby(['player_id']).cumcount().add(1)\n",
    "df=activity[activity['rnk']==1]\n",
    "df=df[df['dt_diff']==1]\n",
    "fraction = df['player_id'].nunique()/activity['player_id'].nunique()\n",
    "fraction=round(fraction,2)\n",
    "print(fraction)\n"
   ]
  },
  {
   "cell_type": "code",
   "execution_count": null,
   "id": "673aff6b-ce9a-483d-9e07-f5f153a11157",
   "metadata": {},
   "outputs": [],
   "source": [
    "#gameplay_analysis\n",
    "def gameplay_analysis(activity: pd.DataFrame) -> pd.DataFrame:\n",
    "    activity['nxt_login_dt']=activity.sort_values(['event_date'],ascending=[True]).groupby(['player_id'])['event_date'].shift(-1)\n",
    "    activity['dt_diff']= (activity['nxt_login_dt']-activity['event_date']).dt.days\n",
    "    activity['rnk']=activity.sort_values(['event_date'],ascending=[True]).groupby(['player_id']).cumcount().add(1)\n",
    "    df=activity[activity['rnk']==1]\n",
    "    df=df[df['dt_diff']==1]\n",
    "    fraction = df['player_id'].nunique()/activity['player_id'].nunique()\n",
    "    fraction=round(fraction,2)\n",
    "    return pd.DataFrame({'fraction':[fraction]})\n",
    "    "
   ]
  },
  {
   "cell_type": "code",
   "execution_count": 50,
   "id": "02588b4f-d24d-45ae-be35-01eb583af115",
   "metadata": {},
   "outputs": [
    {
     "data": {
      "text/html": [
       "<div>\n",
       "<style scoped>\n",
       "    .dataframe tbody tr th:only-of-type {\n",
       "        vertical-align: middle;\n",
       "    }\n",
       "\n",
       "    .dataframe tbody tr th {\n",
       "        vertical-align: top;\n",
       "    }\n",
       "\n",
       "    .dataframe thead th {\n",
       "        text-align: right;\n",
       "    }\n",
       "</style>\n",
       "<table border=\"1\" class=\"dataframe\">\n",
       "  <thead>\n",
       "    <tr style=\"text-align: right;\">\n",
       "      <th></th>\n",
       "      <th>name</th>\n",
       "    </tr>\n",
       "  </thead>\n",
       "  <tbody>\n",
       "    <tr>\n",
       "      <th>0</th>\n",
       "      <td>John</td>\n",
       "    </tr>\n",
       "  </tbody>\n",
       "</table>\n",
       "</div>"
      ],
      "text/plain": [
       "   name\n",
       "0  John"
      ]
     },
     "execution_count": 50,
     "metadata": {},
     "output_type": "execute_result"
    }
   ],
   "source": [
    "#\n",
    "import pandas as pd\n",
    "\n",
    "employee=pd.read_csv(r\"C:\\Users\\Sowmya\\Desktop\\1_Python_learning\\Purdue AIML\\Python_Puzzles\\manager_5_reportees.csv\")\n",
    "manager_df = employee.groupby(['managerId']).agg({'id':['count']})\n",
    "manager_df.columns=['emp_cnt']\n",
    "manager_df=manager_df.reset_index()\n",
    "manager_df=manager_df[['managerId','emp_cnt']]\n",
    "manager_df=manager_df[manager_df['emp_cnt']>=5]\n",
    "join_df=pd.merge(manager_df,employee,left_on=['managerId'],right_on=['id'],how='left')\n",
    "return_df=join_df[['name']]\n",
    "return_df\n",
    "\n",
    "\n",
    "import pandas as pd\n",
    "\n",
    "def find_managers(employee: pd.DataFrame) -> pd.DataFrame:\n",
    "    manager_df = employee.groupby(['managerId']).agg({'id':['count']})\n",
    "    manager_df.columns=['emp_cnt']\n",
    "    manager_df=manager_df.reset_index()\n",
    "    manager_df=manager_df[['managerId','emp_cnt']]\n",
    "    manager_df=manager_df[manager_df['emp_cnt']>=5]\n",
    "    join_df=pd.merge(manager_df,employee,left_on=['managerId'],right_on=['id'],how='inner')\n",
    "    return_df=join_df[['name']]\n",
    "    return(return_df)\n"
   ]
  },
  {
   "cell_type": "code",
   "execution_count": null,
   "id": "a6ab8717-8172-4d64-ba5b-b989b42a2b68",
   "metadata": {},
   "outputs": [],
   "source": [
    "import pandas as pd\n",
    "\n",
    "def employee_bonus(employee: pd.DataFrame, bonus: pd.DataFrame) -> pd.DataFrame:\n",
    "    bonus['bonus_1000_ind']=np.where(bonus['bonus']<1000,1,0)\n",
    "    df_merge = pd.merge(employee,bonus,left_on='empId',right_on='empId',how='left')\n",
    "    df_merge['bonus_1000_ind']=np.where((df_merge['bonus'].isnull() or df_merge['bonus_1000_ind']==1),1,0)\n",
    "    df_merge=df_merge[df_merge['bonus_1000_ind']==1 ]\n",
    "    return df_merge[['name','bonus']]\n",
    "    "
   ]
  },
  {
   "cell_type": "code",
   "execution_count": null,
   "id": "b6187955-39d5-44a3-b213-ab4fcb8269f4",
   "metadata": {},
   "outputs": [],
   "source": [
    "#Bonus < 1000\n",
    "import pandas as pd\n",
    "\n",
    "def employee_bonus(employee: pd.DataFrame, bonus: pd.DataFrame) -> pd.DataFrame:\n",
    "    bonus['bonus_1000_ind']=np.where(bonus['bonus']<1000,True,False)\n",
    "    df_merge = pd.merge(employee,bonus,left_on='empId',right_on='empId',how='left')\n",
    "    df_merge['no_bonus']=np.where(df_merge['bonus'].isnull() ,True,False)\n",
    "    df_merge['no_bonus']=df_merge['no_bonus'].fillna(False)\n",
    "    df_merge['bonus_1000_ind']=df_merge['bonus_1000_ind'].fillna(False)\n",
    "    df_merge['low_or_no_bonus']=np.where((df_merge['no_bonus'] | df_merge['bonus_1000_ind'] ) ,True,False)\n",
    "    df_merge=df_merge[df_merge['low_or_no_bonus']==True ]\n",
    "    return df_merge[['name','bonus']]\n",
    "    #return df_merge"
   ]
  },
  {
   "cell_type": "code",
   "execution_count": 139,
   "id": "85e75e88-17fe-4d3f-bd8e-ce0cdf9ba578",
   "metadata": {},
   "outputs": [
    {
     "data": {
      "text/plain": [
       "45"
      ]
     },
     "execution_count": 139,
     "metadata": {},
     "output_type": "execute_result"
    }
   ],
   "source": [
    "import pandas as pd\n",
    "import numpy as np\n",
    "\n",
    "df=pd.read_csv(r\"C:\\Users\\Sowmya\\Desktop\\1_Python_learning\\Purdue AIML\\Python_Puzzles\\lat_lon_invest.csv\")\n",
    "\n",
    "df['lat_lon'] = df[['lat', 'lon']].apply(tuple, axis=1)\n",
    "lat_lon_counts = df['lat_lon'].value_counts()\n",
    "unique_lat_lon = lat_lon_counts[lat_lon_counts == 1].index\n",
    "df_unique_lat_lon = df[df['lat_lon'].isin(unique_lat_lon)]\n",
    "df['unq_lat_lon']=df['lat_lon'].isin(unique_lat_lon)\n",
    "inv_cnts = df['tiv_2015'].value_counts()\n",
    "same_inv=inv_cnts[inv_cnts>1].index\n",
    "df['same_inv'] =df['tiv_2015'].isin(same_inv)\n",
    "df['final'] = np.where(df['unq_lat_lon'] & df['same_inv'],1,0)\n",
    "fin=df[df['final']==1]['tiv_2016'].sum()\n",
    "\n"
   ]
  },
  {
   "cell_type": "code",
   "execution_count": 121,
   "id": "5faf0050-5cc6-4273-9dd4-6900fb7a0c1b",
   "metadata": {},
   "outputs": [
    {
     "data": {
      "text/plain": [
       "tiv_2015\n",
       "10    3\n",
       "20    1\n",
       "Name: count, dtype: int64"
      ]
     },
     "execution_count": 121,
     "metadata": {},
     "output_type": "execute_result"
    }
   ],
   "source": [
    "##Same investment\n",
    "import pandas as pd\n",
    "\n",
    "def find_investments(insurance: pd.DataFrame) -> pd.DataFrame:\n",
    "    df=insurance.copy('deep')\n",
    "    df['lat_lon'] = df[['lat', 'lon']].apply(tuple, axis=1)\n",
    "    lat_lon_counts = df['lat_lon'].value_counts()\n",
    "    unique_lat_lon = lat_lon_counts[lat_lon_counts == 1].index\n",
    "    df_unique_lat_lon = df[df['lat_lon'].isin(unique_lat_lon)]\n",
    "    df['unq_lat_lon']=df['lat_lon'].isin(unique_lat_lon)\n",
    "    inv_cnts = df['tiv_2015'].value_counts()\n",
    "    same_inv=inv_cnts[inv_cnts>1].index\n",
    "    df['same_inv'] =df['tiv_2015'].isin(same_inv)\n",
    "    df['final'] = np.where(df['unq_lat_lon'] & df['same_inv'],1,0)\n",
    "    fin=df[df['final']==1]['tiv_2016'].sum()\n",
    "    fin=round(fin,2)\n",
    "    return pd.DataFrame({'tiv_2016':[fin]})"
   ]
  },
  {
   "cell_type": "code",
   "execution_count": 127,
   "id": "543624d5-977f-46ba-a8b3-6b802cf44553",
   "metadata": {},
   "outputs": [
    {
     "data": {
      "text/plain": [
       "Index([(10, 10), (40, 40)], dtype='object', name='lat_lon')"
      ]
     },
     "execution_count": 127,
     "metadata": {},
     "output_type": "execute_result"
    }
   ],
   "source": [
    "unique_lat_lon"
   ]
  },
  {
   "cell_type": "code",
   "execution_count": 135,
   "id": "4f40c9cc-82b2-460a-a914-990232d1bad7",
   "metadata": {
    "scrolled": true
   },
   "outputs": [
    {
     "data": {
      "text/html": [
       "<div>\n",
       "<style scoped>\n",
       "    .dataframe tbody tr th:only-of-type {\n",
       "        vertical-align: middle;\n",
       "    }\n",
       "\n",
       "    .dataframe tbody tr th {\n",
       "        vertical-align: top;\n",
       "    }\n",
       "\n",
       "    .dataframe thead th {\n",
       "        text-align: right;\n",
       "    }\n",
       "</style>\n",
       "<table border=\"1\" class=\"dataframe\">\n",
       "  <thead>\n",
       "    <tr style=\"text-align: right;\">\n",
       "      <th></th>\n",
       "      <th>pid</th>\n",
       "      <th>tiv_2015</th>\n",
       "      <th>tiv_2016</th>\n",
       "      <th>lat</th>\n",
       "      <th>lon</th>\n",
       "      <th>lat_lon</th>\n",
       "      <th>unq_lat_lon</th>\n",
       "      <th>same_inv</th>\n",
       "    </tr>\n",
       "  </thead>\n",
       "  <tbody>\n",
       "    <tr>\n",
       "      <th>0</th>\n",
       "      <td>1</td>\n",
       "      <td>10</td>\n",
       "      <td>5</td>\n",
       "      <td>10</td>\n",
       "      <td>10</td>\n",
       "      <td>(10, 10)</td>\n",
       "      <td>True</td>\n",
       "      <td>True</td>\n",
       "    </tr>\n",
       "    <tr>\n",
       "      <th>1</th>\n",
       "      <td>2</td>\n",
       "      <td>20</td>\n",
       "      <td>20</td>\n",
       "      <td>20</td>\n",
       "      <td>20</td>\n",
       "      <td>(20, 20)</td>\n",
       "      <td>False</td>\n",
       "      <td>False</td>\n",
       "    </tr>\n",
       "    <tr>\n",
       "      <th>2</th>\n",
       "      <td>3</td>\n",
       "      <td>10</td>\n",
       "      <td>30</td>\n",
       "      <td>20</td>\n",
       "      <td>20</td>\n",
       "      <td>(20, 20)</td>\n",
       "      <td>False</td>\n",
       "      <td>True</td>\n",
       "    </tr>\n",
       "    <tr>\n",
       "      <th>3</th>\n",
       "      <td>4</td>\n",
       "      <td>10</td>\n",
       "      <td>40</td>\n",
       "      <td>40</td>\n",
       "      <td>40</td>\n",
       "      <td>(40, 40)</td>\n",
       "      <td>True</td>\n",
       "      <td>True</td>\n",
       "    </tr>\n",
       "  </tbody>\n",
       "</table>\n",
       "</div>"
      ],
      "text/plain": [
       "   pid  tiv_2015  tiv_2016  lat  lon   lat_lon  unq_lat_lon  same_inv\n",
       "0    1        10         5   10   10  (10, 10)         True      True\n",
       "1    2        20        20   20   20  (20, 20)        False     False\n",
       "2    3        10        30   20   20  (20, 20)        False      True\n",
       "3    4        10        40   40   40  (40, 40)         True      True"
      ]
     },
     "execution_count": 135,
     "metadata": {},
     "output_type": "execute_result"
    }
   ],
   "source": [
    "df"
   ]
  },
  {
   "cell_type": "code",
   "execution_count": null,
   "id": "9596d73f-b6f3-4641-8f2f-dac76b440bc0",
   "metadata": {},
   "outputs": [],
   "source": []
  },
  {
   "cell_type": "code",
   "execution_count": null,
   "id": "e9ef57f6-a6ef-490c-aa6c-672a3d8687a6",
   "metadata": {},
   "outputs": [],
   "source": [
    "#big country\n",
    "\n",
    "def big_countries(world: pd.DataFrame) -> pd.DataFrame:\n",
    "    big_area=3000000 \n",
    "    big_pop=25000000\n",
    "    world['population']=world['population'].fillna(0).astype(int)\n",
    "    world['area']=world['area'].fillna(0).astype(int)\n",
    "    world['big_ind']=np.where(((world['population']>=big_pop) | (world['area']>=big_area)),1,0)\n",
    "    df = world[world['big_ind']==1]\n",
    "    return df[['name','population','area']]\n",
    "    #return world"
   ]
  },
  {
   "cell_type": "code",
   "execution_count": null,
   "id": "c8aa196d-dbf5-4cc3-b20e-6f6e56aa8738",
   "metadata": {},
   "outputs": [],
   "source": [
    "#class with 5 students\n",
    "import pandas as pd\n",
    "\n",
    "def find_classes(courses: pd.DataFrame) -> pd.DataFrame:\n",
    "    class_cnt=courses['class'].value_counts()\n",
    "    clss_cnt_df =  class_cnt[class_cnt>=5].reset_index()\n",
    "    return pd.DataFrame({'class':clss_cnt_df['class'].unique()})"
   ]
  },
  {
   "cell_type": "code",
   "execution_count": null,
   "id": "5cc6954e-f645-4e31-9e6a-73595358b1cc",
   "metadata": {},
   "outputs": [],
   "source": [
    "#Triangle\n",
    "import pandas as pd\n",
    "\n",
    "def triangle_judgement(triangle: pd.DataFrame) -> pd.DataFrame:\n",
    "    triangle['triangle']=np.where((((triangle['x']+triangle['y'])>triangle['z']) & ((triangle['z']+triangle['y'])>triangle['x']) & ((triangle['z']+triangle['x'])>triangle['y'])),'Yes','No')\n",
    "    return triangle\n",
    "    "
   ]
  },
  {
   "cell_type": "code",
   "execution_count": null,
   "id": "d5bf6343-b98d-4386-9552-7029a333f96c",
   "metadata": {},
   "outputs": [],
   "source": [
    "#Node - Tree\n",
    "import pandas as pd\n",
    "\n",
    "def tree_node(tree: pd.DataFrame) -> pd.DataFrame:\n",
    "    tree['root_ind']=np.where(tree['p_id'].isnull(),1,0)\n",
    "    tree['parent_ind']=np.where(tree['id'].isin(tree['p_id'].unique()),1,0)\n",
    "    tree['type']=np.where(tree['parent_ind']==1,'Inner','Leaf')\n",
    "    tree['type']=np.where(tree['root_ind']==1,'Root',tree['type'])\n",
    "    return tree[['id','type']]"
   ]
  },
  {
   "cell_type": "code",
   "execution_count": null,
   "id": "d0496b3f-db2c-4901-abcb-4eb860a167e5",
   "metadata": {},
   "outputs": [],
   "source": [
    "#Largest Single number\n",
    "def biggest_single_number(my_numbers: pd.DataFrame) -> pd.DataFrame:\n",
    "    n_count = my_numbers['num'].value_counts()\n",
    "    single_nums = n_count[n_count==1]\n",
    "    single_nums=single_nums.reset_index()\n",
    "    if len(single_nums['num']) > 0:\n",
    "        large_num=single_nums['num'].max()\n",
    "    else:\n",
    "        large_num=None\n",
    "    return pd.DataFrame({'num':[large_num]})"
   ]
  },
  {
   "cell_type": "code",
   "execution_count": null,
   "id": "b21e4afe-1664-41e6-8539-937aeed60578",
   "metadata": {},
   "outputs": [],
   "source": [
    "# Import your libraries\n",
    "import pandas as pd\n",
    "import numpy as np\n",
    "\n",
    "# Start writing code\n",
    "sf_events.head()\n",
    "\n",
    "sf_events['nxt_record_dt_1']=sf_events.sort_values(['record_date'],ascending=[True]).groupby(['user_id'])['record_date'].shift(-1)\n",
    "sf_events['nxt_record_dt_2']=sf_events.sort_values(['record_date'],ascending=[True]).groupby(['user_id'])['record_date'].shift(-2)\n",
    "\n",
    "sf_events['dt_1_diff']=(sf_events['nxt_record_dt_1']-sf_events['record_date']).dt.total_seconds() / 86400\n",
    "\n",
    "sf_events['dt_2_diff']=(sf_events['nxt_record_dt_2']-sf_events['record_date']).dt.total_seconds() / 86400\n",
    "\n",
    "sf_events =sf_events[sf_events['dt_2_diff'].notna()]\n",
    "sf_events =sf_events[sf_events['dt_1_diff'].notna()]\n",
    "\n",
    "sf_events['dt_2_diff'] = sf_events['dt_2_diff'].astype(int)\n",
    "sf_events['dt_1_diff'] = sf_events['dt_1_diff'].astype(int)\n",
    "\n",
    "sf_events['conseq_ind'] = np.where((sf_events['dt_1_diff']==1) & (sf_events['dt_2_diff']==2),1,0)\n",
    "sf_events[sf_events['conseq_ind']==1]['user_id']\n"
   ]
  },
  {
   "cell_type": "code",
   "execution_count": null,
   "id": "735788f0-cff6-47c4-93ec-18b638894d6a",
   "metadata": {},
   "outputs": [],
   "source": [
    "#https://leetcode.com/problems/last-person-to-fit-in-the-bus/?envType=study-plan-v2&envId=top-sql-50\n",
    "import pandas as pd\n",
    "\n",
    "def last_passenger(queue: pd.DataFrame) -> pd.DataFrame:\n",
    "    #for i in range(len(queue)):\n",
    "    pass_count = len(queue)\n",
    "    queue = queue.sort_values(['turn'],ascending=[True])\n",
    "    queue['cum_sum']=queue['weight'].cumsum()\n",
    "    queue['cum_sum_nxt'] = queue['cum_sum'].shift(-1)\n",
    "    if queue['cum_sum'].max() <= 1000:\n",
    "        return pd.DataFrame(queue['person_name'][-1:])\n",
    "    df=queue[(queue['cum_sum']<=1000)&(queue['cum_sum_nxt'] >1000)]['person_name']\n",
    "    return pd.DataFrame(df)"
   ]
  }
 ],
 "metadata": {
  "kernelspec": {
   "display_name": "Python 3 (ipykernel)",
   "language": "python",
   "name": "python3"
  },
  "language_info": {
   "codemirror_mode": {
    "name": "ipython",
    "version": 3
   },
   "file_extension": ".py",
   "mimetype": "text/x-python",
   "name": "python",
   "nbconvert_exporter": "python",
   "pygments_lexer": "ipython3",
   "version": "3.12.4"
  }
 },
 "nbformat": 4,
 "nbformat_minor": 5
}
