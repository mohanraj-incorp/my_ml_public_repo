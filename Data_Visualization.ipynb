{
 "cells": [
  {
   "cell_type": "markdown",
   "metadata": {
    "colab_type": "text",
    "id": "DGPlYumZnO1t"
   },
   "source": [
    "# Exploratory Data Analysis Using Python and BigQuery\n",
    "\n",
    "\n",
    "\n",
    "## Learning Objectives\n",
    "\n",
    "1. Analyze a Pandas Dataframe\n",
    "2. Create Seaborn plots for Exploratory Data Analysis in Python \n",
    "3. Write a SQL query to pick up specific fields from a BigQuery dataset\n",
    "4. Exploratory Analysis in BigQuery\n",
    "\n",
    "\n",
    "## Introduction \n",
    "This lab is an introduction to linear regression using Python and Scikit-Learn.  This lab serves as a foundation for more complex algorithms and machine learning models that you will encounter in the course. We will train a linear regression model to predict housing price.\n",
    "\n",
    "Each learning objective will correspond to a __#TODO__ in this student lab notebook -- try to complete this notebook first and then review the [solution notebook](../solutions/python.BQ_explore_data.ipynb). \n"
   ]
  },
  {
   "cell_type": "markdown",
   "metadata": {
    "colab_type": "text",
    "id": "AsHg6SD2nO1v"
   },
   "source": [
    "### Import Libraries"
   ]
  },
  {
   "cell_type": "code",
   "execution_count": null,
   "metadata": {},
   "outputs": [],
   "source": [
    "!sudo chown -R jupyter:jupyter /home/jupyter/training-data-analyst"
   ]
  },
  {
   "cell_type": "code",
   "execution_count": null,
   "metadata": {},
   "outputs": [],
   "source": [
    "!pip install --user google-cloud-bigquery>=2.34.4"
   ]
  },
  {
   "cell_type": "markdown",
   "metadata": {},
   "source": [
    "Please ignore any incompatibility warnings and errors.\n"
   ]
  },
  {
   "cell_type": "markdown",
   "metadata": {},
   "source": [
    "**Restart** the kernel before proceeding further (On the Notebook menu - Kernel - Restart Kernel).\n"
   ]
  },
  {
   "cell_type": "code",
   "execution_count": 8,
   "metadata": {
    "colab": {},
    "colab_type": "code",
    "id": "gEXV-RxPnO1w"
   },
   "outputs": [],
   "source": [
    "import os \n",
    "import pandas as pd\n",
    "import numpy as np\n",
    "# delete me from sklearn.model_selection import train_test_split\n",
    "import matplotlib.pyplot as plt\n",
    "import seaborn as sns # Seaborn is a Python data visualization library based on matplotlib. \n",
    "%matplotlib inline   "
   ]
  },
  {
   "cell_type": "markdown",
   "metadata": {
    "colab_type": "text",
    "id": "dr2TkzKRnO1z"
   },
   "source": [
    "###  Load the Dataset\n",
    "\n"
   ]
  },
  {
   "cell_type": "markdown",
   "metadata": {},
   "source": [
    "Here, we create a directory called usahousing.  This directory will hold the dataset that we copy from Google Cloud Storage."
   ]
  },
  {
   "cell_type": "code",
   "execution_count": 3,
   "metadata": {},
   "outputs": [],
   "source": [
    "if not os.path.isdir(\"../data/explore\"):\n",
    "    os.makedirs(\"../data/explore\")"
   ]
  },
  {
   "cell_type": "markdown",
   "metadata": {},
   "source": [
    "Next, we copy the Usahousing dataset from Google Cloud Storage."
   ]
  },
  {
   "cell_type": "code",
   "execution_count": 4,
   "metadata": {},
   "outputs": [
    {
     "name": "stdout",
     "output_type": "stream",
     "text": [
      "Copying gs://cloud-training/mlongcp/v3.0_MLonGC/toy_data/housing_pre-proc_toy.csv...\n",
      "/ [1 files][138.8 KiB/138.8 KiB]                                                \n",
      "Operation completed over 1 objects/138.8 KiB.                                      \n"
     ]
    }
   ],
   "source": [
    "!gsutil cp gs://cloud-training/mlongcp/v3.0_MLonGC/toy_data/housing_pre-proc_toy.csv ../data/explore  "
   ]
  },
  {
   "cell_type": "markdown",
   "metadata": {},
   "source": [
    "Then we use the \"ls\" command to list files in the directory.  This ensures that the dataset was copied."
   ]
  },
  {
   "cell_type": "code",
   "execution_count": 2,
   "metadata": {},
   "outputs": [
    {
     "name": "stderr",
     "output_type": "stream",
     "text": [
      "'ls' is not recognized as an internal or external command,\n",
      "operable program or batch file.\n"
     ]
    }
   ],
   "source": [
    "!ls -l ../data/explore"
   ]
  },
  {
   "cell_type": "markdown",
   "metadata": {},
   "source": [
    "Next, we read the dataset into a Pandas dataframe."
   ]
  },
  {
   "cell_type": "code",
   "execution_count": 4,
   "metadata": {
    "colab": {},
    "colab_type": "code",
    "id": "CzrXJI8VnO10"
   },
   "outputs": [],
   "source": [
    "df_USAhousing = pd.read_csv(\"C:/Users/Sowmya/Desktop/1_Python_learning/datasets/housing_pre-proc_toy.csv\")"
   ]
  },
  {
   "cell_type": "markdown",
   "metadata": {},
   "source": [
    "###  Inspect the Data"
   ]
  },
  {
   "cell_type": "code",
   "execution_count": 5,
   "metadata": {
    "colab": {
     "base_uri": "https://localhost:8080/",
     "height": 272
    },
    "colab_type": "code",
    "id": "Y6VJQ1tdnO12",
    "outputId": "7a1d4eed-3e83-44a8-f495-a9b74444d3ec"
   },
   "outputs": [
    {
     "data": {
      "text/html": [
       "<div>\n",
       "<style scoped>\n",
       "    .dataframe tbody tr th:only-of-type {\n",
       "        vertical-align: middle;\n",
       "    }\n",
       "\n",
       "    .dataframe tbody tr th {\n",
       "        vertical-align: top;\n",
       "    }\n",
       "\n",
       "    .dataframe thead th {\n",
       "        text-align: right;\n",
       "    }\n",
       "</style>\n",
       "<table border=\"1\" class=\"dataframe\">\n",
       "  <thead>\n",
       "    <tr style=\"text-align: right;\">\n",
       "      <th></th>\n",
       "      <th>longitude</th>\n",
       "      <th>latitude</th>\n",
       "      <th>housing_median_age</th>\n",
       "      <th>total_rooms</th>\n",
       "      <th>total_bedrooms</th>\n",
       "      <th>population</th>\n",
       "      <th>households</th>\n",
       "      <th>median_income</th>\n",
       "      <th>median_house_value</th>\n",
       "      <th>ocean_proximity</th>\n",
       "    </tr>\n",
       "  </thead>\n",
       "  <tbody>\n",
       "    <tr>\n",
       "      <th>0</th>\n",
       "      <td>-122.23</td>\n",
       "      <td>37.88</td>\n",
       "      <td>41</td>\n",
       "      <td>880</td>\n",
       "      <td>129</td>\n",
       "      <td>322</td>\n",
       "      <td>126</td>\n",
       "      <td>8.3252</td>\n",
       "      <td>452600</td>\n",
       "      <td>NEAR BAY</td>\n",
       "    </tr>\n",
       "    <tr>\n",
       "      <th>1</th>\n",
       "      <td>-122.22</td>\n",
       "      <td>37.86</td>\n",
       "      <td>21</td>\n",
       "      <td>7099</td>\n",
       "      <td>1106</td>\n",
       "      <td>2401</td>\n",
       "      <td>1138</td>\n",
       "      <td>8.3014</td>\n",
       "      <td>358500</td>\n",
       "      <td>NEAR BAY</td>\n",
       "    </tr>\n",
       "    <tr>\n",
       "      <th>2</th>\n",
       "      <td>-122.24</td>\n",
       "      <td>37.85</td>\n",
       "      <td>52</td>\n",
       "      <td>1467</td>\n",
       "      <td>190</td>\n",
       "      <td>496</td>\n",
       "      <td>177</td>\n",
       "      <td>7.2574</td>\n",
       "      <td>352100</td>\n",
       "      <td>NEAR BAY</td>\n",
       "    </tr>\n",
       "    <tr>\n",
       "      <th>3</th>\n",
       "      <td>-122.25</td>\n",
       "      <td>37.85</td>\n",
       "      <td>52</td>\n",
       "      <td>1274</td>\n",
       "      <td>235</td>\n",
       "      <td>558</td>\n",
       "      <td>219</td>\n",
       "      <td>5.6431</td>\n",
       "      <td>341300</td>\n",
       "      <td>NEAR BAY</td>\n",
       "    </tr>\n",
       "    <tr>\n",
       "      <th>4</th>\n",
       "      <td>-122.25</td>\n",
       "      <td>37.85</td>\n",
       "      <td>52</td>\n",
       "      <td>1627</td>\n",
       "      <td>280</td>\n",
       "      <td>565</td>\n",
       "      <td>259</td>\n",
       "      <td>3.8462</td>\n",
       "      <td>342200</td>\n",
       "      <td>NEAR BAY</td>\n",
       "    </tr>\n",
       "  </tbody>\n",
       "</table>\n",
       "</div>"
      ],
      "text/plain": [
       "   longitude  latitude  housing_median_age  total_rooms  total_bedrooms  \\\n",
       "0    -122.23     37.88                  41          880             129   \n",
       "1    -122.22     37.86                  21         7099            1106   \n",
       "2    -122.24     37.85                  52         1467             190   \n",
       "3    -122.25     37.85                  52         1274             235   \n",
       "4    -122.25     37.85                  52         1627             280   \n",
       "\n",
       "   population  households  median_income  median_house_value ocean_proximity  \n",
       "0         322         126         8.3252              452600        NEAR BAY  \n",
       "1        2401        1138         8.3014              358500        NEAR BAY  \n",
       "2         496         177         7.2574              352100        NEAR BAY  \n",
       "3         558         219         5.6431              341300        NEAR BAY  \n",
       "4         565         259         3.8462              342200        NEAR BAY  "
      ]
     },
     "execution_count": 5,
     "metadata": {},
     "output_type": "execute_result"
    }
   ],
   "source": [
    "# Show the first five row.\n",
    "\n",
    "df_USAhousing.head()"
   ]
  },
  {
   "cell_type": "markdown",
   "metadata": {},
   "source": [
    "Let's check for any null values."
   ]
  },
  {
   "cell_type": "code",
   "execution_count": 8,
   "metadata": {},
   "outputs": [
    {
     "data": {
      "text/plain": [
       "longitude             0\n",
       "latitude              0\n",
       "housing_median_age    0\n",
       "total_rooms           0\n",
       "total_bedrooms        0\n",
       "population            0\n",
       "households            0\n",
       "median_income         0\n",
       "median_house_value    0\n",
       "ocean_proximity       0\n",
       "dtype: int64"
      ]
     },
     "execution_count": 8,
     "metadata": {},
     "output_type": "execute_result"
    }
   ],
   "source": [
    "df_USAhousing.isnull().sum()"
   ]
  },
  {
   "cell_type": "code",
   "execution_count": 9,
   "metadata": {
    "colab": {
     "base_uri": "https://localhost:8080/",
     "height": 297
    },
    "colab_type": "code",
    "id": "nRTsvSzqnO17",
    "outputId": "f44ad14e-5fb4-4c70-e71c-9d149bca4869"
   },
   "outputs": [
    {
     "data": {
      "text/html": [
       "<div>\n",
       "<style scoped>\n",
       "    .dataframe tbody tr th:only-of-type {\n",
       "        vertical-align: middle;\n",
       "    }\n",
       "\n",
       "    .dataframe tbody tr th {\n",
       "        vertical-align: top;\n",
       "    }\n",
       "\n",
       "    .dataframe thead th {\n",
       "        text-align: right;\n",
       "    }\n",
       "</style>\n",
       "<table border=\"1\" class=\"dataframe\">\n",
       "  <thead>\n",
       "    <tr style=\"text-align: right;\">\n",
       "      <th></th>\n",
       "      <th>count</th>\n",
       "      <th>mean</th>\n",
       "      <th>std</th>\n",
       "      <th>min</th>\n",
       "      <th>25%</th>\n",
       "      <th>50%</th>\n",
       "      <th>75%</th>\n",
       "      <th>max</th>\n",
       "    </tr>\n",
       "  </thead>\n",
       "  <tbody>\n",
       "    <tr>\n",
       "      <th>longitude</th>\n",
       "      <td>2500.0</td>\n",
       "      <td>-121.501836</td>\n",
       "      <td>1.015963</td>\n",
       "      <td>-124.3000</td>\n",
       "      <td>-122.200000</td>\n",
       "      <td>-122.0300</td>\n",
       "      <td>-120.697500</td>\n",
       "      <td>-118.9100</td>\n",
       "    </tr>\n",
       "    <tr>\n",
       "      <th>latitude</th>\n",
       "      <td>2500.0</td>\n",
       "      <td>37.802288</td>\n",
       "      <td>0.803090</td>\n",
       "      <td>36.1300</td>\n",
       "      <td>37.600000</td>\n",
       "      <td>37.8000</td>\n",
       "      <td>37.960000</td>\n",
       "      <td>41.9500</td>\n",
       "    </tr>\n",
       "    <tr>\n",
       "      <th>housing_median_age</th>\n",
       "      <td>2500.0</td>\n",
       "      <td>30.088400</td>\n",
       "      <td>13.878416</td>\n",
       "      <td>2.0000</td>\n",
       "      <td>18.000000</td>\n",
       "      <td>30.0000</td>\n",
       "      <td>41.000000</td>\n",
       "      <td>52.0000</td>\n",
       "    </tr>\n",
       "    <tr>\n",
       "      <th>total_rooms</th>\n",
       "      <td>2500.0</td>\n",
       "      <td>2522.734000</td>\n",
       "      <td>1988.411988</td>\n",
       "      <td>12.0000</td>\n",
       "      <td>1420.750000</td>\n",
       "      <td>2052.0000</td>\n",
       "      <td>3007.250000</td>\n",
       "      <td>28258.0000</td>\n",
       "    </tr>\n",
       "    <tr>\n",
       "      <th>total_bedrooms</th>\n",
       "      <td>2500.0</td>\n",
       "      <td>491.862400</td>\n",
       "      <td>362.499497</td>\n",
       "      <td>4.0000</td>\n",
       "      <td>282.000000</td>\n",
       "      <td>402.0000</td>\n",
       "      <td>581.250000</td>\n",
       "      <td>3864.0000</td>\n",
       "    </tr>\n",
       "    <tr>\n",
       "      <th>population</th>\n",
       "      <td>2500.0</td>\n",
       "      <td>1246.225200</td>\n",
       "      <td>925.075463</td>\n",
       "      <td>18.0000</td>\n",
       "      <td>718.000000</td>\n",
       "      <td>1030.5000</td>\n",
       "      <td>1488.250000</td>\n",
       "      <td>12203.0000</td>\n",
       "    </tr>\n",
       "    <tr>\n",
       "      <th>households</th>\n",
       "      <td>2500.0</td>\n",
       "      <td>458.122000</td>\n",
       "      <td>341.744308</td>\n",
       "      <td>2.0000</td>\n",
       "      <td>263.000000</td>\n",
       "      <td>374.5000</td>\n",
       "      <td>538.000000</td>\n",
       "      <td>3701.0000</td>\n",
       "    </tr>\n",
       "    <tr>\n",
       "      <th>median_income</th>\n",
       "      <td>2500.0</td>\n",
       "      <td>3.694312</td>\n",
       "      <td>1.859422</td>\n",
       "      <td>0.4999</td>\n",
       "      <td>2.357875</td>\n",
       "      <td>3.2622</td>\n",
       "      <td>4.662975</td>\n",
       "      <td>15.0001</td>\n",
       "    </tr>\n",
       "    <tr>\n",
       "      <th>median_house_value</th>\n",
       "      <td>2500.0</td>\n",
       "      <td>170288.731200</td>\n",
       "      <td>97550.278529</td>\n",
       "      <td>22500.0000</td>\n",
       "      <td>92950.000000</td>\n",
       "      <td>150800.0000</td>\n",
       "      <td>219650.000000</td>\n",
       "      <td>500001.0000</td>\n",
       "    </tr>\n",
       "  </tbody>\n",
       "</table>\n",
       "</div>"
      ],
      "text/plain": [
       "                     count           mean           std         min  \\\n",
       "longitude           2500.0    -121.501836      1.015963   -124.3000   \n",
       "latitude            2500.0      37.802288      0.803090     36.1300   \n",
       "housing_median_age  2500.0      30.088400     13.878416      2.0000   \n",
       "total_rooms         2500.0    2522.734000   1988.411988     12.0000   \n",
       "total_bedrooms      2500.0     491.862400    362.499497      4.0000   \n",
       "population          2500.0    1246.225200    925.075463     18.0000   \n",
       "households          2500.0     458.122000    341.744308      2.0000   \n",
       "median_income       2500.0       3.694312      1.859422      0.4999   \n",
       "median_house_value  2500.0  170288.731200  97550.278529  22500.0000   \n",
       "\n",
       "                             25%          50%            75%          max  \n",
       "longitude            -122.200000    -122.0300    -120.697500    -118.9100  \n",
       "latitude               37.600000      37.8000      37.960000      41.9500  \n",
       "housing_median_age     18.000000      30.0000      41.000000      52.0000  \n",
       "total_rooms          1420.750000    2052.0000    3007.250000   28258.0000  \n",
       "total_bedrooms        282.000000     402.0000     581.250000    3864.0000  \n",
       "population            718.000000    1030.5000    1488.250000   12203.0000  \n",
       "households            263.000000     374.5000     538.000000    3701.0000  \n",
       "median_income           2.357875       3.2622       4.662975      15.0001  \n",
       "median_house_value  92950.000000  150800.0000  219650.000000  500001.0000  "
      ]
     },
     "execution_count": 9,
     "metadata": {},
     "output_type": "execute_result"
    }
   ],
   "source": [
    "df_stats = df_USAhousing.describe()\n",
    "df_stats = df_stats.transpose()\n",
    "df_stats"
   ]
  },
  {
   "cell_type": "code",
   "execution_count": 10,
   "metadata": {},
   "outputs": [
    {
     "name": "stdout",
     "output_type": "stream",
     "text": [
      "<class 'pandas.core.frame.DataFrame'>\n",
      "RangeIndex: 2500 entries, 0 to 2499\n",
      "Data columns (total 10 columns):\n",
      " #   Column              Non-Null Count  Dtype  \n",
      "---  ------              --------------  -----  \n",
      " 0   longitude           2500 non-null   float64\n",
      " 1   latitude            2500 non-null   float64\n",
      " 2   housing_median_age  2500 non-null   int64  \n",
      " 3   total_rooms         2500 non-null   int64  \n",
      " 4   total_bedrooms      2500 non-null   int64  \n",
      " 5   population          2500 non-null   int64  \n",
      " 6   households          2500 non-null   int64  \n",
      " 7   median_income       2500 non-null   float64\n",
      " 8   median_house_value  2500 non-null   int64  \n",
      " 9   ocean_proximity     2500 non-null   object \n",
      "dtypes: float64(3), int64(6), object(1)\n",
      "memory usage: 195.4+ KB\n"
     ]
    }
   ],
   "source": [
    "df_USAhousing.info()"
   ]
  },
  {
   "cell_type": "markdown",
   "metadata": {},
   "source": [
    "Let's take a peek at the first and last five rows of the data for all columns."
   ]
  },
  {
   "cell_type": "code",
   "execution_count": 11,
   "metadata": {},
   "outputs": [
    {
     "name": "stdout",
     "output_type": "stream",
     "text": [
      "Rows     :  2500\n",
      "Columns  :  10\n",
      "\n",
      "Features : \n",
      " ['longitude', 'latitude', 'housing_median_age', 'total_rooms', 'total_bedrooms', 'population', 'households', 'median_income', 'median_house_value', 'ocean_proximity']\n",
      "\n",
      "Missing values :   0\n",
      "\n",
      "Unique values :  \n",
      "longitude              265\n",
      "latitude               275\n",
      "housing_median_age      51\n",
      "total_rooms           1889\n",
      "total_bedrooms         922\n",
      "population            1520\n",
      "households             890\n",
      "median_income         2186\n",
      "median_house_value    1553\n",
      "ocean_proximity          4\n",
      "dtype: int64\n"
     ]
    }
   ],
   "source": [
    "print (\"Rows     : \" ,df_USAhousing.shape[0])\n",
    "print (\"Columns  : \" ,df_USAhousing.shape[1])\n",
    "print (\"\\nFeatures : \\n\" ,df_USAhousing.columns.tolist())\n",
    "print (\"\\nMissing values :  \", df_USAhousing.isnull().sum().values.sum())\n",
    "print (\"\\nUnique values :  \\n\",df_USAhousing\n",
    "       .nunique())"
   ]
  },
  {
   "cell_type": "code",
   "execution_count": 10,
   "metadata": {},
   "outputs": [
    {
     "data": {
      "text/html": [
       "<div>\n",
       "<style scoped>\n",
       "    .dataframe tbody tr th:only-of-type {\n",
       "        vertical-align: middle;\n",
       "    }\n",
       "\n",
       "    .dataframe tbody tr th {\n",
       "        vertical-align: top;\n",
       "    }\n",
       "\n",
       "    .dataframe thead th {\n",
       "        text-align: right;\n",
       "    }\n",
       "</style>\n",
       "<table border=\"1\" class=\"dataframe\">\n",
       "  <thead>\n",
       "    <tr style=\"text-align: right;\">\n",
       "      <th></th>\n",
       "      <th>longitude</th>\n",
       "      <th>latitude</th>\n",
       "      <th>housing_median_age</th>\n",
       "      <th>total_rooms</th>\n",
       "      <th>total_bedrooms</th>\n",
       "      <th>population</th>\n",
       "      <th>households</th>\n",
       "      <th>median_income</th>\n",
       "      <th>median_house_value</th>\n",
       "    </tr>\n",
       "  </thead>\n",
       "  <tbody>\n",
       "    <tr>\n",
       "      <th>longitude</th>\n",
       "      <td>1.000000</td>\n",
       "      <td>-0.515250</td>\n",
       "      <td>-0.301630</td>\n",
       "      <td>-0.048526</td>\n",
       "      <td>-0.046721</td>\n",
       "      <td>-0.017695</td>\n",
       "      <td>-0.079796</td>\n",
       "      <td>-0.211070</td>\n",
       "      <td>-0.465248</td>\n",
       "    </tr>\n",
       "    <tr>\n",
       "      <th>latitude</th>\n",
       "      <td>-0.515250</td>\n",
       "      <td>1.000000</td>\n",
       "      <td>-0.053962</td>\n",
       "      <td>0.037994</td>\n",
       "      <td>0.039811</td>\n",
       "      <td>-0.042365</td>\n",
       "      <td>0.012488</td>\n",
       "      <td>-0.037276</td>\n",
       "      <td>0.054267</td>\n",
       "    </tr>\n",
       "    <tr>\n",
       "      <th>housing_median_age</th>\n",
       "      <td>-0.301630</td>\n",
       "      <td>-0.053962</td>\n",
       "      <td>1.000000</td>\n",
       "      <td>-0.376458</td>\n",
       "      <td>-0.340132</td>\n",
       "      <td>-0.342423</td>\n",
       "      <td>-0.314246</td>\n",
       "      <td>-0.212692</td>\n",
       "      <td>0.008578</td>\n",
       "    </tr>\n",
       "    <tr>\n",
       "      <th>total_rooms</th>\n",
       "      <td>-0.048526</td>\n",
       "      <td>0.037994</td>\n",
       "      <td>-0.376458</td>\n",
       "      <td>1.000000</td>\n",
       "      <td>0.932114</td>\n",
       "      <td>0.913001</td>\n",
       "      <td>0.929634</td>\n",
       "      <td>0.309820</td>\n",
       "      <td>0.281070</td>\n",
       "    </tr>\n",
       "    <tr>\n",
       "      <th>total_bedrooms</th>\n",
       "      <td>-0.046721</td>\n",
       "      <td>0.039811</td>\n",
       "      <td>-0.340132</td>\n",
       "      <td>0.932114</td>\n",
       "      <td>1.000000</td>\n",
       "      <td>0.912754</td>\n",
       "      <td>0.984608</td>\n",
       "      <td>0.086581</td>\n",
       "      <td>0.136153</td>\n",
       "    </tr>\n",
       "    <tr>\n",
       "      <th>population</th>\n",
       "      <td>-0.017695</td>\n",
       "      <td>-0.042365</td>\n",
       "      <td>-0.342423</td>\n",
       "      <td>0.913001</td>\n",
       "      <td>0.912754</td>\n",
       "      <td>1.000000</td>\n",
       "      <td>0.933383</td>\n",
       "      <td>0.138402</td>\n",
       "      <td>0.121161</td>\n",
       "    </tr>\n",
       "    <tr>\n",
       "      <th>households</th>\n",
       "      <td>-0.079796</td>\n",
       "      <td>0.012488</td>\n",
       "      <td>-0.314246</td>\n",
       "      <td>0.929634</td>\n",
       "      <td>0.984608</td>\n",
       "      <td>0.933383</td>\n",
       "      <td>1.000000</td>\n",
       "      <td>0.114652</td>\n",
       "      <td>0.158936</td>\n",
       "    </tr>\n",
       "    <tr>\n",
       "      <th>median_income</th>\n",
       "      <td>-0.211070</td>\n",
       "      <td>-0.037276</td>\n",
       "      <td>-0.212692</td>\n",
       "      <td>0.309820</td>\n",
       "      <td>0.086581</td>\n",
       "      <td>0.138402</td>\n",
       "      <td>0.114652</td>\n",
       "      <td>1.000000</td>\n",
       "      <td>0.783102</td>\n",
       "    </tr>\n",
       "    <tr>\n",
       "      <th>median_house_value</th>\n",
       "      <td>-0.465248</td>\n",
       "      <td>0.054267</td>\n",
       "      <td>0.008578</td>\n",
       "      <td>0.281070</td>\n",
       "      <td>0.136153</td>\n",
       "      <td>0.121161</td>\n",
       "      <td>0.158936</td>\n",
       "      <td>0.783102</td>\n",
       "      <td>1.000000</td>\n",
       "    </tr>\n",
       "  </tbody>\n",
       "</table>\n",
       "</div>"
      ],
      "text/plain": [
       "                    longitude  latitude  housing_median_age  total_rooms  \\\n",
       "longitude            1.000000 -0.515250           -0.301630    -0.048526   \n",
       "latitude            -0.515250  1.000000           -0.053962     0.037994   \n",
       "housing_median_age  -0.301630 -0.053962            1.000000    -0.376458   \n",
       "total_rooms         -0.048526  0.037994           -0.376458     1.000000   \n",
       "total_bedrooms      -0.046721  0.039811           -0.340132     0.932114   \n",
       "population          -0.017695 -0.042365           -0.342423     0.913001   \n",
       "households          -0.079796  0.012488           -0.314246     0.929634   \n",
       "median_income       -0.211070 -0.037276           -0.212692     0.309820   \n",
       "median_house_value  -0.465248  0.054267            0.008578     0.281070   \n",
       "\n",
       "                    total_bedrooms  population  households  median_income  \\\n",
       "longitude                -0.046721   -0.017695   -0.079796      -0.211070   \n",
       "latitude                  0.039811   -0.042365    0.012488      -0.037276   \n",
       "housing_median_age       -0.340132   -0.342423   -0.314246      -0.212692   \n",
       "total_rooms               0.932114    0.913001    0.929634       0.309820   \n",
       "total_bedrooms            1.000000    0.912754    0.984608       0.086581   \n",
       "population                0.912754    1.000000    0.933383       0.138402   \n",
       "households                0.984608    0.933383    1.000000       0.114652   \n",
       "median_income             0.086581    0.138402    0.114652       1.000000   \n",
       "median_house_value        0.136153    0.121161    0.158936       0.783102   \n",
       "\n",
       "                    median_house_value  \n",
       "longitude                    -0.465248  \n",
       "latitude                      0.054267  \n",
       "housing_median_age            0.008578  \n",
       "total_rooms                   0.281070  \n",
       "total_bedrooms                0.136153  \n",
       "population                    0.121161  \n",
       "households                    0.158936  \n",
       "median_income                 0.783102  \n",
       "median_house_value            1.000000  "
      ]
     },
     "execution_count": 10,
     "metadata": {},
     "output_type": "execute_result"
    }
   ],
   "source": [
    "df_USAhousing.corr()"
   ]
  },
  {
   "cell_type": "markdown",
   "metadata": {
    "colab_type": "text",
    "id": "QWVdsrmgnO1_"
   },
   "source": [
    "## Explore the Data\n",
    "\n",
    "Let's create some simple plots to check out the data!  "
   ]
  },
  {
   "cell_type": "code",
   "execution_count": 11,
   "metadata": {},
   "outputs": [
    {
     "data": {
      "text/plain": [
       "<matplotlib.axes._subplots.AxesSubplot at 0x1d2de9b9390>"
      ]
     },
     "execution_count": 11,
     "metadata": {},
     "output_type": "execute_result"
    },
    {
     "data": {
      "image/png": "[encoded data removed]",
      "text/plain": [
       "<Figure size 432x288 with 2 Axes>"
      ]
     },
     "metadata": {},
     "output_type": "display_data"
    }
   ],
   "source": [
    "sns.heatmap(df_USAhousing.corr())"
   ]
  },
  {
   "cell_type": "markdown",
   "metadata": {},
   "source": [
    "Create a displot showing \"median_house_value\"."
   ]
  },
  {
   "cell_type": "code",
   "execution_count": 12,
   "metadata": {
    "colab": {
     "base_uri": "https://localhost:8080/",
     "height": 296
    },
    "colab_type": "code",
    "id": "SOsTLClWnO2B",
    "outputId": "b8a78674-5ddb-4706-90b4-37d7d83e8092"
   },
   "outputs": [
    {
     "data": {
      "text/plain": [
       "<matplotlib.axes._subplots.AxesSubplot at 0x1d2de90b048>"
      ]
     },
     "execution_count": 12,
     "metadata": {},
     "output_type": "execute_result"
    },
    {
     "data": {
      "image/png": "[encoded data removed]",
      "text/plain": [
       "<Figure size 432x288 with 1 Axes>"
      ]
     },
     "metadata": {},
     "output_type": "display_data"
    }
   ],
   "source": [
    "sns.distplot(df_USAhousing['median_house_value'])"
   ]
  },
  {
   "cell_type": "code",
   "execution_count": 17,
   "metadata": {},
   "outputs": [
    {
     "data": {
      "text/plain": [
       "<matplotlib.axes._subplots.AxesSubplot at 0x1d2debb56a0>"
      ]
     },
     "execution_count": 17,
     "metadata": {},
     "output_type": "execute_result"
    },
    {
     "data": {
      "image/png": "[encoded data removed]",
      "text/plain": [
       "<Figure size 432x288 with 1 Axes>"
      ]
     },
     "metadata": {},
     "output_type": "display_data"
    }
   ],
   "source": [
    "sns.set_style('whitegrid')\n",
    "df_USAhousing['median_house_value'].hist(bins=10)\n",
    "#plt.xlabel('median_house_value')"
   ]
  },
  {
   "cell_type": "code",
   "execution_count": 20,
   "metadata": {},
   "outputs": [
    {
     "data": {
      "image/png": "[encoded data removed]",
      "text/plain": [
       "<Figure size 432x288 with 1 Axes>"
      ]
     },
     "metadata": {},
     "output_type": "display_data"
    }
   ],
   "source": [
    "x = df_USAhousing['median_income']\n",
    "y = df_USAhousing['median_house_value']\n",
    "\n",
    "plt.scatter(x, y)\n",
    "plt.show()"
   ]
  },
  {
   "cell_type": "markdown",
   "metadata": {},
   "source": [
    "Create a jointplot showing \"median_income\"  versus \"median_house_value\"."
   ]
  },
  {
   "cell_type": "code",
   "execution_count": 21,
   "metadata": {},
   "outputs": [
    {
     "data": {
      "text/plain": [
       "<seaborn.axisgrid.JointGrid at 0x1d2dea51d30>"
      ]
     },
     "execution_count": 21,
     "metadata": {},
     "output_type": "execute_result"
    },
    {
     "data": {
      "image/png": "[encoded data removed]",
      "text/plain": [
       "<Figure size 432x432 with 3 Axes>"
      ]
     },
     "metadata": {},
     "output_type": "display_data"
    }
   ],
   "source": [
    "sns.jointplot(x = \"median_income\", y = \"median_house_value\", \n",
    "              kind = \"scatter\", data = df_USAhousing)"
   ]
  },
  {
   "cell_type": "code",
   "execution_count": 22,
   "metadata": {},
   "outputs": [
    {
     "data": {
      "text/plain": [
       "<matplotlib.axes._subplots.AxesSubplot at 0x1d2def091d0>"
      ]
     },
     "execution_count": 22,
     "metadata": {},
     "output_type": "execute_result"
    },
    {
     "data": {
      "image/png": "[encoded data removed]",
      "text/plain": [
       "<Figure size 432x288 with 1 Axes>"
      ]
     },
     "metadata": {},
     "output_type": "display_data"
    }
   ],
   "source": [
    "sns.countplot(x = 'ocean_proximity', data=df_USAhousing)"
   ]
  },
  {
   "cell_type": "code",
   "execution_count": 26,
   "metadata": {},
   "outputs": [
    {
     "data": {
      "image/png": "[encoded data removed]",
      "text/plain": [
       "<Figure size 864x216 with 4 Axes>"
      ]
     },
     "metadata": {},
     "output_type": "display_data"
    }
   ],
   "source": [
    "# takes numeric only?\n",
    "#plt.figure(figsize=(20,20))\n",
    "g = sns.FacetGrid(df_USAhousing, col=\"ocean_proximity\")\n",
    "\n",
    "g.map(plt.hist, \"households\");"
   ]
  },
  {
   "cell_type": "code",
   "execution_count": null,
   "metadata": {},
   "outputs": [],
   "source": [
    "df_USAhousing['age_group'] = df_USAhousing['housing_median_age'].apply(lambda x : '0-10' if x   <= 10 else '11-20' if 10<x<=20 else '21-30' if 20<x<=30 else '31-45' if 30<x<=45 \n",
    "                                                 else '46-60' if 45<x<=60 else '60+')\n",
    "df_USAhousing.describe"
   ]
  },
  {
   "cell_type": "code",
   "execution_count": null,
   "metadata": {},
   "outputs": [],
   "source": [
    "# takes numeric only?\n",
    "#plt.figure(figsize=(20,20))\n",
    "g = sns.FacetGrid(df_USAhousing, col=\"ocean_proximity\")\n",
    "g.map(plt.hist, \"households\");"
   ]
  },
  {
   "cell_type": "code",
   "execution_count": 24,
   "metadata": {},
   "outputs": [
    {
     "data": {
      "image/png": "[encoded data removed]",
      "text/plain": [
       "<Figure size 864x216 with 4 Axes>"
      ]
     },
     "metadata": {},
     "output_type": "display_data"
    }
   ],
   "source": [
    "# takes numeric only?\n",
    "#plt.figure(figsize=(20,20))\n",
    "g = sns.FacetGrid(df_USAhousing, col=\"ocean_proximity\")\n",
    "g.map(plt.hist, \"median_income\");"
   ]
  },
  {
   "cell_type": "markdown",
   "metadata": {},
   "source": [
    "You can see below that this is the state of California!"
   ]
  },
  {
   "cell_type": "code",
   "execution_count": 25,
   "metadata": {},
   "outputs": [
    {
     "data": {
      "image/png": "[encoded data removed]",
      "text/plain": [
       "<Figure size 432x288 with 1 Axes>"
      ]
     },
     "metadata": {},
     "output_type": "display_data"
    }
   ],
   "source": [
    "x = df_USAhousing['latitude']\n",
    "y = df_USAhousing['longitude']\n",
    "\n",
    "plt.scatter(x, y)\n",
    "plt.show()"
   ]
  },
  {
   "cell_type": "markdown",
   "metadata": {},
   "source": [
    "# Explore and create ML datasets\n",
    "\n",
    "In this notebook, we will explore data corresponding to taxi rides in New York City to build a Machine Learning model in support of a fare-estimation tool. The idea is to suggest a likely fare to taxi riders so that they are not surprised, and so that they can protest if the charge is much higher than expected.\n",
    "\n",
    "## Learning objectives\n",
    "* Access and explore a public BigQuery dataset on NYC Taxi Cab rides\n",
    "* Visualize your dataset using the Seaborn library\n",
    "\n",
    "\n",
    "First, **restart the Kernel**.  Now, let's start with the Python imports that we need."
   ]
  },
  {
   "cell_type": "code",
   "execution_count": 1,
   "metadata": {},
   "outputs": [],
   "source": [
    "from google.cloud import bigquery\n",
    "import seaborn as sns\n",
    "import matplotlib.pyplot as plt\n",
    "import pandas as pd\n",
    "import numpy as np"
   ]
  },
  {
   "cell_type": "markdown",
   "metadata": {},
   "source": [
    "<h3> Extract sample data from BigQuery </h3>\n",
    "\n",
    "The dataset that we will use is <a href=\"https://console.cloud.google.com/bigquery?project=nyc-tlc&p=nyc-tlc&d=yellow&t=trips&page=table\">a BigQuery public dataset</a>. Click on the link, and look at the column names. Switch to the Details tab to verify that the number of records is one billion, and then switch to the Preview tab to look at a few rows.\n",
    "\n",
    "Let's write a SQL query to pick up interesting fields from the dataset. It's a good idea to get the timestamp in a predictable format."
   ]
  },
  {
   "cell_type": "code",
   "execution_count": 2,
   "metadata": {},
   "outputs": [
    {
     "data": {
      "text/html": [
       "<div>\n",
       "<style scoped>\n",
       "    .dataframe tbody tr th:only-of-type {\n",
       "        vertical-align: middle;\n",
       "    }\n",
       "\n",
       "    .dataframe tbody tr th {\n",
       "        vertical-align: top;\n",
       "    }\n",
       "\n",
       "    .dataframe thead th {\n",
       "        text-align: right;\n",
       "    }\n",
       "</style>\n",
       "<table border=\"1\" class=\"dataframe\">\n",
       "  <thead>\n",
       "    <tr style=\"text-align: right;\">\n",
       "      <th></th>\n",
       "      <th>pickup_datetime</th>\n",
       "      <th>pickup_longitude</th>\n",
       "      <th>pickup_latitude</th>\n",
       "      <th>dropoff_longitude</th>\n",
       "      <th>dropoff_latitude</th>\n",
       "      <th>passenger_count</th>\n",
       "      <th>trip_distance</th>\n",
       "      <th>tolls_amount</th>\n",
       "      <th>fare_amount</th>\n",
       "      <th>total_amount</th>\n",
       "    </tr>\n",
       "  </thead>\n",
       "  <tbody>\n",
       "    <tr>\n",
       "      <th>0</th>\n",
       "      <td>2010-02-05 01:20:05 UTC</td>\n",
       "      <td>-73.979935</td>\n",
       "      <td>40.761105</td>\n",
       "      <td>-73.966230</td>\n",
       "      <td>40.689831</td>\n",
       "      <td>1</td>\n",
       "      <td>84.8</td>\n",
       "      <td>0.0</td>\n",
       "      <td>0.0</td>\n",
       "      <td>0.0</td>\n",
       "    </tr>\n",
       "    <tr>\n",
       "      <th>1</th>\n",
       "      <td>2010-03-07 00:58:45 UTC</td>\n",
       "      <td>-74.001449</td>\n",
       "      <td>40.726071</td>\n",
       "      <td>-73.980448</td>\n",
       "      <td>40.744253</td>\n",
       "      <td>2</td>\n",
       "      <td>2.2</td>\n",
       "      <td>0.0</td>\n",
       "      <td>0.0</td>\n",
       "      <td>0.0</td>\n",
       "    </tr>\n",
       "    <tr>\n",
       "      <th>2</th>\n",
       "      <td>2010-03-05 20:17:51 UTC</td>\n",
       "      <td>-73.863740</td>\n",
       "      <td>40.734245</td>\n",
       "      <td>-73.991364</td>\n",
       "      <td>40.750096</td>\n",
       "      <td>1</td>\n",
       "      <td>7.6</td>\n",
       "      <td>0.0</td>\n",
       "      <td>0.0</td>\n",
       "      <td>0.0</td>\n",
       "    </tr>\n",
       "    <tr>\n",
       "      <th>3</th>\n",
       "      <td>2010-03-29 08:12:38 UTC</td>\n",
       "      <td>-73.993394</td>\n",
       "      <td>40.747158</td>\n",
       "      <td>-73.790150</td>\n",
       "      <td>40.646883</td>\n",
       "      <td>1</td>\n",
       "      <td>171.1</td>\n",
       "      <td>0.0</td>\n",
       "      <td>0.0</td>\n",
       "      <td>0.0</td>\n",
       "    </tr>\n",
       "    <tr>\n",
       "      <th>4</th>\n",
       "      <td>2015-02-22 22:40:31 UTC</td>\n",
       "      <td>-73.937363</td>\n",
       "      <td>40.758041</td>\n",
       "      <td>-73.937386</td>\n",
       "      <td>40.758060</td>\n",
       "      <td>1</td>\n",
       "      <td>0.0</td>\n",
       "      <td>0.0</td>\n",
       "      <td>0.0</td>\n",
       "      <td>0.0</td>\n",
       "    </tr>\n",
       "    <tr>\n",
       "      <th>5</th>\n",
       "      <td>2010-03-14 05:27:23 UTC</td>\n",
       "      <td>-73.993982</td>\n",
       "      <td>40.770577</td>\n",
       "      <td>-73.997214</td>\n",
       "      <td>40.762466</td>\n",
       "      <td>1</td>\n",
       "      <td>12.4</td>\n",
       "      <td>0.0</td>\n",
       "      <td>0.0</td>\n",
       "      <td>0.0</td>\n",
       "    </tr>\n",
       "    <tr>\n",
       "      <th>6</th>\n",
       "      <td>2010-02-04 22:41:28 UTC</td>\n",
       "      <td>-73.991934</td>\n",
       "      <td>40.730339</td>\n",
       "      <td>-73.991934</td>\n",
       "      <td>40.730339</td>\n",
       "      <td>1</td>\n",
       "      <td>0.0</td>\n",
       "      <td>0.0</td>\n",
       "      <td>0.0</td>\n",
       "      <td>0.0</td>\n",
       "    </tr>\n",
       "    <tr>\n",
       "      <th>7</th>\n",
       "      <td>2013-08-15 03:49:56 UTC</td>\n",
       "      <td>-73.937020</td>\n",
       "      <td>40.620175</td>\n",
       "      <td>-73.936452</td>\n",
       "      <td>40.620522</td>\n",
       "      <td>1</td>\n",
       "      <td>0.0</td>\n",
       "      <td>0.0</td>\n",
       "      <td>0.0</td>\n",
       "      <td>0.0</td>\n",
       "    </tr>\n",
       "    <tr>\n",
       "      <th>8</th>\n",
       "      <td>2010-03-02 14:45:23 UTC</td>\n",
       "      <td>-73.973403</td>\n",
       "      <td>40.754323</td>\n",
       "      <td>-73.806456</td>\n",
       "      <td>40.652384</td>\n",
       "      <td>1</td>\n",
       "      <td>14.9</td>\n",
       "      <td>0.0</td>\n",
       "      <td>0.0</td>\n",
       "      <td>0.0</td>\n",
       "    </tr>\n",
       "    <tr>\n",
       "      <th>9</th>\n",
       "      <td>2010-03-11 01:24:14 UTC</td>\n",
       "      <td>-73.990386</td>\n",
       "      <td>40.757301</td>\n",
       "      <td>-74.006484</td>\n",
       "      <td>40.782452</td>\n",
       "      <td>1</td>\n",
       "      <td>46.4</td>\n",
       "      <td>6.0</td>\n",
       "      <td>0.0</td>\n",
       "      <td>6.0</td>\n",
       "    </tr>\n",
       "  </tbody>\n",
       "</table>\n",
       "</div>"
      ],
      "text/plain": [
       "           pickup_datetime  pickup_longitude  pickup_latitude  \\\n",
       "0  2010-02-05 01:20:05 UTC        -73.979935        40.761105   \n",
       "1  2010-03-07 00:58:45 UTC        -74.001449        40.726071   \n",
       "2  2010-03-05 20:17:51 UTC        -73.863740        40.734245   \n",
       "3  2010-03-29 08:12:38 UTC        -73.993394        40.747158   \n",
       "4  2015-02-22 22:40:31 UTC        -73.937363        40.758041   \n",
       "5  2010-03-14 05:27:23 UTC        -73.993982        40.770577   \n",
       "6  2010-02-04 22:41:28 UTC        -73.991934        40.730339   \n",
       "7  2013-08-15 03:49:56 UTC        -73.937020        40.620175   \n",
       "8  2010-03-02 14:45:23 UTC        -73.973403        40.754323   \n",
       "9  2010-03-11 01:24:14 UTC        -73.990386        40.757301   \n",
       "\n",
       "   dropoff_longitude  dropoff_latitude  passenger_count  trip_distance  \\\n",
       "0         -73.966230         40.689831                1           84.8   \n",
       "1         -73.980448         40.744253                2            2.2   \n",
       "2         -73.991364         40.750096                1            7.6   \n",
       "3         -73.790150         40.646883                1          171.1   \n",
       "4         -73.937386         40.758060                1            0.0   \n",
       "5         -73.997214         40.762466                1           12.4   \n",
       "6         -73.991934         40.730339                1            0.0   \n",
       "7         -73.936452         40.620522                1            0.0   \n",
       "8         -73.806456         40.652384                1           14.9   \n",
       "9         -74.006484         40.782452                1           46.4   \n",
       "\n",
       "   tolls_amount  fare_amount  total_amount  \n",
       "0           0.0          0.0           0.0  \n",
       "1           0.0          0.0           0.0  \n",
       "2           0.0          0.0           0.0  \n",
       "3           0.0          0.0           0.0  \n",
       "4           0.0          0.0           0.0  \n",
       "5           0.0          0.0           0.0  \n",
       "6           0.0          0.0           0.0  \n",
       "7           0.0          0.0           0.0  \n",
       "8           0.0          0.0           0.0  \n",
       "9           6.0          0.0           6.0  "
      ]
     },
     "execution_count": 2,
     "metadata": {},
     "output_type": "execute_result"
    }
   ],
   "source": [
    "%%bigquery\n",
    "SELECT\n",
    "    FORMAT_TIMESTAMP(\n",
    "        \"%Y-%m-%d %H:%M:%S %Z\", pickup_datetime) AS pickup_datetime,\n",
    "    pickup_longitude, pickup_latitude, dropoff_longitude,\n",
    "    dropoff_latitude, passenger_count, trip_distance, tolls_amount, \n",
    "    fare_amount, total_amount \n",
    "# TODO 3: Set correct BigQuery public dataset for nyc-tlc yellow taxi cab trips\n",
    "# Tip: For projects with hyphens '-' be sure to escape with backticks ``\n",
    "FROM \n",
    "LIMIT 10"
   ]
  },
  {
   "cell_type": "markdown",
   "metadata": {},
   "source": [
    "Let's increase the number of records so that we can do some neat graphs.  There is no guarantee about the order in which records are returned, and so no guarantee about which records get returned if we simply increase the LIMIT. To properly sample the dataset, let's use the HASH of the pickup time and return 1 in 100,000 records -- because there are 1 billion records in the data, we should get back approximately 10,000 records if we do this.\n",
    "\n",
    "We will also store the BigQuery result in a Pandas dataframe named \"trips\""
   ]
  },
  {
   "cell_type": "code",
   "execution_count": 3,
   "metadata": {},
   "outputs": [],
   "source": [
    "%%bigquery trips\n",
    "SELECT\n",
    "    FORMAT_TIMESTAMP(\n",
    "        \"%Y-%m-%d %H:%M:%S %Z\", pickup_datetime) AS pickup_datetime,\n",
    "    pickup_longitude, pickup_latitude, \n",
    "    dropoff_longitude, dropoff_latitude,\n",
    "    passenger_count,\n",
    "    trip_distance,\n",
    "    tolls_amount,\n",
    "    fare_amount,\n",
    "    total_amount\n",
    "FROM\n",
    "    `nyc-tlc.yellow.trips`\n",
    "WHERE\n",
    "    ABS(MOD(FARM_FINGERPRINT(CAST(pickup_datetime AS STRING)), 100000)) = 1"
   ]
  },
  {
   "cell_type": "code",
   "execution_count": 4,
   "metadata": {},
   "outputs": [
    {
     "name": "stdout",
     "output_type": "stream",
     "text": [
      "10789\n"
     ]
    }
   ],
   "source": [
    "print(len(trips))"
   ]
  },
  {
   "cell_type": "code",
   "execution_count": 5,
   "metadata": {},
   "outputs": [
    {
     "data": {
      "text/html": [
       "<div>\n",
       "<style scoped>\n",
       "    .dataframe tbody tr th:only-of-type {\n",
       "        vertical-align: middle;\n",
       "    }\n",
       "\n",
       "    .dataframe tbody tr th {\n",
       "        vertical-align: top;\n",
       "    }\n",
       "\n",
       "    .dataframe thead th {\n",
       "        text-align: right;\n",
       "    }\n",
       "</style>\n",
       "<table border=\"1\" class=\"dataframe\">\n",
       "  <thead>\n",
       "    <tr style=\"text-align: right;\">\n",
       "      <th></th>\n",
       "      <th>pickup_datetime</th>\n",
       "      <th>pickup_longitude</th>\n",
       "      <th>pickup_latitude</th>\n",
       "      <th>dropoff_longitude</th>\n",
       "      <th>dropoff_latitude</th>\n",
       "      <th>passenger_count</th>\n",
       "      <th>trip_distance</th>\n",
       "      <th>tolls_amount</th>\n",
       "      <th>fare_amount</th>\n",
       "      <th>total_amount</th>\n",
       "    </tr>\n",
       "  </thead>\n",
       "  <tbody>\n",
       "    <tr>\n",
       "      <th>0</th>\n",
       "      <td>2014-05-17 15:15:00 UTC</td>\n",
       "      <td>-73.999550</td>\n",
       "      <td>40.760600</td>\n",
       "      <td>-73.999650</td>\n",
       "      <td>40.725220</td>\n",
       "      <td>1</td>\n",
       "      <td>5.57</td>\n",
       "      <td>0.00</td>\n",
       "      <td>31.0</td>\n",
       "      <td>33.50</td>\n",
       "    </tr>\n",
       "    <tr>\n",
       "      <th>1</th>\n",
       "      <td>2012-02-21 11:53:00 UTC</td>\n",
       "      <td>-73.953860</td>\n",
       "      <td>40.787055</td>\n",
       "      <td>-73.972072</td>\n",
       "      <td>40.676780</td>\n",
       "      <td>6</td>\n",
       "      <td>11.90</td>\n",
       "      <td>0.00</td>\n",
       "      <td>31.7</td>\n",
       "      <td>38.54</td>\n",
       "    </tr>\n",
       "    <tr>\n",
       "      <th>2</th>\n",
       "      <td>2009-09-25 03:47:00 UTC</td>\n",
       "      <td>-74.001323</td>\n",
       "      <td>40.727572</td>\n",
       "      <td>-73.987230</td>\n",
       "      <td>40.661257</td>\n",
       "      <td>1</td>\n",
       "      <td>5.76</td>\n",
       "      <td>0.00</td>\n",
       "      <td>16.9</td>\n",
       "      <td>17.40</td>\n",
       "    </tr>\n",
       "    <tr>\n",
       "      <th>3</th>\n",
       "      <td>2014-10-06 15:16:00 UTC</td>\n",
       "      <td>-73.980130</td>\n",
       "      <td>40.760910</td>\n",
       "      <td>-73.861730</td>\n",
       "      <td>40.768330</td>\n",
       "      <td>2</td>\n",
       "      <td>11.47</td>\n",
       "      <td>5.33</td>\n",
       "      <td>36.5</td>\n",
       "      <td>47.33</td>\n",
       "    </tr>\n",
       "    <tr>\n",
       "      <th>4</th>\n",
       "      <td>2014-12-08 21:50:00 UTC</td>\n",
       "      <td>-73.870867</td>\n",
       "      <td>40.773782</td>\n",
       "      <td>-74.003297</td>\n",
       "      <td>40.708215</td>\n",
       "      <td>2</td>\n",
       "      <td>11.81</td>\n",
       "      <td>0.00</td>\n",
       "      <td>33.5</td>\n",
       "      <td>37.50</td>\n",
       "    </tr>\n",
       "    <tr>\n",
       "      <th>5</th>\n",
       "      <td>2010-05-26 16:15:03 UTC</td>\n",
       "      <td>-74.002922</td>\n",
       "      <td>40.714474</td>\n",
       "      <td>-73.978505</td>\n",
       "      <td>40.758280</td>\n",
       "      <td>1</td>\n",
       "      <td>6.10</td>\n",
       "      <td>0.00</td>\n",
       "      <td>20.9</td>\n",
       "      <td>25.76</td>\n",
       "    </tr>\n",
       "    <tr>\n",
       "      <th>6</th>\n",
       "      <td>2009-03-28 20:30:35 UTC</td>\n",
       "      <td>-73.973926</td>\n",
       "      <td>40.757725</td>\n",
       "      <td>-73.981695</td>\n",
       "      <td>40.761591</td>\n",
       "      <td>1</td>\n",
       "      <td>0.50</td>\n",
       "      <td>0.00</td>\n",
       "      <td>4.6</td>\n",
       "      <td>4.60</td>\n",
       "    </tr>\n",
       "    <tr>\n",
       "      <th>7</th>\n",
       "      <td>2009-08-23 23:59:22 UTC</td>\n",
       "      <td>-73.783319</td>\n",
       "      <td>40.648480</td>\n",
       "      <td>-73.893649</td>\n",
       "      <td>40.646566</td>\n",
       "      <td>1</td>\n",
       "      <td>8.30</td>\n",
       "      <td>0.00</td>\n",
       "      <td>18.9</td>\n",
       "      <td>18.90</td>\n",
       "    </tr>\n",
       "    <tr>\n",
       "      <th>8</th>\n",
       "      <td>2012-05-05 22:46:05 UTC</td>\n",
       "      <td>-74.009790</td>\n",
       "      <td>40.712483</td>\n",
       "      <td>-73.959293</td>\n",
       "      <td>40.768908</td>\n",
       "      <td>1</td>\n",
       "      <td>5.20</td>\n",
       "      <td>0.00</td>\n",
       "      <td>16.9</td>\n",
       "      <td>19.90</td>\n",
       "    </tr>\n",
       "    <tr>\n",
       "      <th>9</th>\n",
       "      <td>2010-12-21 13:08:00 UTC</td>\n",
       "      <td>-73.982422</td>\n",
       "      <td>40.739847</td>\n",
       "      <td>-73.981658</td>\n",
       "      <td>40.768732</td>\n",
       "      <td>2</td>\n",
       "      <td>2.64</td>\n",
       "      <td>0.00</td>\n",
       "      <td>14.9</td>\n",
       "      <td>15.40</td>\n",
       "    </tr>\n",
       "  </tbody>\n",
       "</table>\n",
       "</div>"
      ],
      "text/plain": [
       "           pickup_datetime  pickup_longitude  pickup_latitude  \\\n",
       "0  2014-05-17 15:15:00 UTC        -73.999550        40.760600   \n",
       "1  2012-02-21 11:53:00 UTC        -73.953860        40.787055   \n",
       "2  2009-09-25 03:47:00 UTC        -74.001323        40.727572   \n",
       "3  2014-10-06 15:16:00 UTC        -73.980130        40.760910   \n",
       "4  2014-12-08 21:50:00 UTC        -73.870867        40.773782   \n",
       "5  2010-05-26 16:15:03 UTC        -74.002922        40.714474   \n",
       "6  2009-03-28 20:30:35 UTC        -73.973926        40.757725   \n",
       "7  2009-08-23 23:59:22 UTC        -73.783319        40.648480   \n",
       "8  2012-05-05 22:46:05 UTC        -74.009790        40.712483   \n",
       "9  2010-12-21 13:08:00 UTC        -73.982422        40.739847   \n",
       "\n",
       "   dropoff_longitude  dropoff_latitude  passenger_count  trip_distance  \\\n",
       "0         -73.999650         40.725220                1           5.57   \n",
       "1         -73.972072         40.676780                6          11.90   \n",
       "2         -73.987230         40.661257                1           5.76   \n",
       "3         -73.861730         40.768330                2          11.47   \n",
       "4         -74.003297         40.708215                2          11.81   \n",
       "5         -73.978505         40.758280                1           6.10   \n",
       "6         -73.981695         40.761591                1           0.50   \n",
       "7         -73.893649         40.646566                1           8.30   \n",
       "8         -73.959293         40.768908                1           5.20   \n",
       "9         -73.981658         40.768732                2           2.64   \n",
       "\n",
       "   tolls_amount  fare_amount  total_amount  \n",
       "0          0.00         31.0         33.50  \n",
       "1          0.00         31.7         38.54  \n",
       "2          0.00         16.9         17.40  \n",
       "3          5.33         36.5         47.33  \n",
       "4          0.00         33.5         37.50  \n",
       "5          0.00         20.9         25.76  \n",
       "6          0.00          4.6          4.60  \n",
       "7          0.00         18.9         18.90  \n",
       "8          0.00         16.9         19.90  \n",
       "9          0.00         14.9         15.40  "
      ]
     },
     "execution_count": 5,
     "metadata": {},
     "output_type": "execute_result"
    }
   ],
   "source": [
    "# We can slice Pandas dataframes as if they were arrays\n",
    "trips[:10]"
   ]
  },
  {
   "cell_type": "markdown",
   "metadata": {},
   "source": [
    "<h3> Exploring data </h3>\n",
    "\n",
    "Let's explore this dataset and clean it up as necessary. We'll use the Python Seaborn package to visualize graphs and Pandas to do the slicing and filtering."
   ]
  },
  {
   "cell_type": "code",
   "execution_count": 6,
   "metadata": {},
   "outputs": [
    {
     "data": {
      "image/png": "[encoded data removed]",
      "text/plain": [
       "<Figure size 720x576 with 1 Axes>"
      ]
     },
     "metadata": {
      "needs_background": "light"
     },
     "output_type": "display_data"
    }
   ],
   "source": [
    "# TODO 4: Visualize your dataset using the Seaborn library.\n",
    "# Plot the distance of the trip as X and the fare amount as Y.\n",
    "ax = sns.regplot(x=\"\", y=\"\", fit_reg=False, ci=None, truncate=True, data=trips)\n",
    "ax.figure.set_size_inches(10, 8)"
   ]
  },
  {
   "cell_type": "markdown",
   "metadata": {},
   "source": [
    "Hmm ... do you see something wrong with the data that needs addressing?\n",
    "\n",
    "It appears that we have a lot of invalid data that is being coded as zero distance and some fare amounts that are definitely illegitimate. Let's remove them from our analysis. We can do this by modifying the BigQuery query to keep only trips longer than zero miles and fare amounts that are at least the minimum cab fare ($2.50).\n",
    "\n",
    "Note the extra WHERE clauses."
   ]
  },
  {
   "cell_type": "code",
   "execution_count": 7,
   "metadata": {},
   "outputs": [],
   "source": [
    "%%bigquery trips\n",
    "SELECT\n",
    "    FORMAT_TIMESTAMP(\n",
    "        \"%Y-%m-%d %H:%M:%S %Z\", pickup_datetime) AS pickup_datetime,\n",
    "    pickup_longitude, pickup_latitude, \n",
    "    dropoff_longitude, dropoff_latitude,\n",
    "    passenger_count,\n",
    "    trip_distance,\n",
    "    tolls_amount,\n",
    "    fare_amount,\n",
    "    total_amount\n",
    "FROM\n",
    "    `nyc-tlc.yellow.trips`\n",
    "WHERE\n",
    "    ABS(MOD(FARM_FINGERPRINT(CAST(pickup_datetime AS STRING)), 100000)) = 1\n",
    "    # TODO 4a: Filter the data to only include non-zero distance trips and fares above $2.50\n",
    "    AND "
   ]
  },
  {
   "cell_type": "code",
   "execution_count": 8,
   "metadata": {},
   "outputs": [
    {
     "name": "stdout",
     "output_type": "stream",
     "text": [
      "10716\n"
     ]
    }
   ],
   "source": [
    "print(len(trips))"
   ]
  },
  {
   "cell_type": "code",
   "execution_count": 9,
   "metadata": {},
   "outputs": [
    {
     "data": {
      "image/png": "[encoded data removed]",
      "text/plain": [
       "<Figure size 720x576 with 1 Axes>"
      ]
     },
     "metadata": {
      "needs_background": "light"
     },
     "output_type": "display_data"
    }
   ],
   "source": [
    "ax = sns.regplot(\n",
    "    x=\"trip_distance\", y=\"fare_amount\",\n",
    "    fit_reg=False, ci=None, truncate=True, data=trips)\n",
    "ax.figure.set_size_inches(10, 8)"
   ]
  },
  {
   "cell_type": "markdown",
   "metadata": {},
   "source": [
    "What's up with the streaks around 45 dollars and 50 dollars?  Those are fixed-amount rides from JFK and La Guardia airports into anywhere in Manhattan, i.e. to be expected. Let's list the data to make sure the values look reasonable.\n",
    "\n",
    "Let's also examine whether the toll amount is captured in the total amount."
   ]
  },
  {
   "cell_type": "code",
   "execution_count": 10,
   "metadata": {},
   "outputs": [
    {
     "data": {
      "text/html": [
       "<div>\n",
       "<style scoped>\n",
       "    .dataframe tbody tr th:only-of-type {\n",
       "        vertical-align: middle;\n",
       "    }\n",
       "\n",
       "    .dataframe tbody tr th {\n",
       "        vertical-align: top;\n",
       "    }\n",
       "\n",
       "    .dataframe thead th {\n",
       "        text-align: right;\n",
       "    }\n",
       "</style>\n",
       "<table border=\"1\" class=\"dataframe\">\n",
       "  <thead>\n",
       "    <tr style=\"text-align: right;\">\n",
       "      <th></th>\n",
       "      <th>pickup_datetime</th>\n",
       "      <th>pickup_longitude</th>\n",
       "      <th>pickup_latitude</th>\n",
       "      <th>dropoff_longitude</th>\n",
       "      <th>dropoff_latitude</th>\n",
       "      <th>passenger_count</th>\n",
       "      <th>trip_distance</th>\n",
       "      <th>tolls_amount</th>\n",
       "      <th>fare_amount</th>\n",
       "      <th>total_amount</th>\n",
       "    </tr>\n",
       "  </thead>\n",
       "  <tbody>\n",
       "    <tr>\n",
       "      <th>40</th>\n",
       "      <td>2012-02-27 09:19:10 UTC</td>\n",
       "      <td>-73.874431</td>\n",
       "      <td>40.774011</td>\n",
       "      <td>-73.983967</td>\n",
       "      <td>40.744082</td>\n",
       "      <td>1</td>\n",
       "      <td>11.6</td>\n",
       "      <td>4.8</td>\n",
       "      <td>27.7</td>\n",
       "      <td>38.0</td>\n",
       "    </tr>\n",
       "  </tbody>\n",
       "</table>\n",
       "</div>"
      ],
      "text/plain": [
       "            pickup_datetime  pickup_longitude  pickup_latitude  \\\n",
       "40  2012-02-27 09:19:10 UTC        -73.874431        40.774011   \n",
       "\n",
       "    dropoff_longitude  dropoff_latitude  passenger_count  trip_distance  \\\n",
       "40         -73.983967         40.744082                1           11.6   \n",
       "\n",
       "    tolls_amount  fare_amount  total_amount  \n",
       "40           4.8         27.7          38.0  "
      ]
     },
     "execution_count": 10,
     "metadata": {},
     "output_type": "execute_result"
    }
   ],
   "source": [
    "tollrides = trips[trips[\"tolls_amount\"] > 0]\n",
    "tollrides[tollrides[\"pickup_datetime\"] == \"2012-02-27 09:19:10 UTC\"]"
   ]
  },
  {
   "cell_type": "code",
   "execution_count": 11,
   "metadata": {},
   "outputs": [
    {
     "data": {
      "text/html": [
       "<div>\n",
       "<style scoped>\n",
       "    .dataframe tbody tr th:only-of-type {\n",
       "        vertical-align: middle;\n",
       "    }\n",
       "\n",
       "    .dataframe tbody tr th {\n",
       "        vertical-align: top;\n",
       "    }\n",
       "\n",
       "    .dataframe thead th {\n",
       "        text-align: right;\n",
       "    }\n",
       "</style>\n",
       "<table border=\"1\" class=\"dataframe\">\n",
       "  <thead>\n",
       "    <tr style=\"text-align: right;\">\n",
       "      <th></th>\n",
       "      <th>pickup_datetime</th>\n",
       "      <th>pickup_longitude</th>\n",
       "      <th>pickup_latitude</th>\n",
       "      <th>dropoff_longitude</th>\n",
       "      <th>dropoff_latitude</th>\n",
       "      <th>passenger_count</th>\n",
       "      <th>trip_distance</th>\n",
       "      <th>tolls_amount</th>\n",
       "      <th>fare_amount</th>\n",
       "      <th>total_amount</th>\n",
       "    </tr>\n",
       "  </thead>\n",
       "  <tbody>\n",
       "    <tr>\n",
       "      <th>53</th>\n",
       "      <td>2012-02-27 09:19:10 UTC</td>\n",
       "      <td>-73.972311</td>\n",
       "      <td>40.753067</td>\n",
       "      <td>-73.957389</td>\n",
       "      <td>40.817824</td>\n",
       "      <td>1</td>\n",
       "      <td>5.6</td>\n",
       "      <td>0.0</td>\n",
       "      <td>16.9</td>\n",
       "      <td>22.62</td>\n",
       "    </tr>\n",
       "    <tr>\n",
       "      <th>7811</th>\n",
       "      <td>2012-02-27 09:19:10 UTC</td>\n",
       "      <td>-73.987582</td>\n",
       "      <td>40.725468</td>\n",
       "      <td>-74.016628</td>\n",
       "      <td>40.715534</td>\n",
       "      <td>1</td>\n",
       "      <td>2.8</td>\n",
       "      <td>0.0</td>\n",
       "      <td>12.1</td>\n",
       "      <td>15.75</td>\n",
       "    </tr>\n",
       "    <tr>\n",
       "      <th>10537</th>\n",
       "      <td>2012-02-27 09:19:10 UTC</td>\n",
       "      <td>-74.015483</td>\n",
       "      <td>40.715279</td>\n",
       "      <td>-73.998045</td>\n",
       "      <td>40.756273</td>\n",
       "      <td>1</td>\n",
       "      <td>3.3</td>\n",
       "      <td>0.0</td>\n",
       "      <td>10.9</td>\n",
       "      <td>13.40</td>\n",
       "    </tr>\n",
       "  </tbody>\n",
       "</table>\n",
       "</div>"
      ],
      "text/plain": [
       "               pickup_datetime  pickup_longitude  pickup_latitude  \\\n",
       "53     2012-02-27 09:19:10 UTC        -73.972311        40.753067   \n",
       "7811   2012-02-27 09:19:10 UTC        -73.987582        40.725468   \n",
       "10537  2012-02-27 09:19:10 UTC        -74.015483        40.715279   \n",
       "\n",
       "       dropoff_longitude  dropoff_latitude  passenger_count  trip_distance  \\\n",
       "53            -73.957389         40.817824                1            5.6   \n",
       "7811          -74.016628         40.715534                1            2.8   \n",
       "10537         -73.998045         40.756273                1            3.3   \n",
       "\n",
       "       tolls_amount  fare_amount  total_amount  \n",
       "53              0.0         16.9         22.62  \n",
       "7811            0.0         12.1         15.75  \n",
       "10537           0.0         10.9         13.40  "
      ]
     },
     "execution_count": 11,
     "metadata": {},
     "output_type": "execute_result"
    }
   ],
   "source": [
    "notollrides = trips[trips[\"tolls_amount\"] == 0]\n",
    "notollrides[notollrides[\"pickup_datetime\"] == \"2012-02-27 09:19:10 UTC\"]"
   ]
  },
  {
   "cell_type": "markdown",
   "metadata": {},
   "source": [
    "Looking at a few samples above, it should be clear that the total amount reflects fare amount, toll and tip somewhat arbitrarily -- this is because when customers pay cash, the tip is not known.  So, we'll use the sum of fare_amount + tolls_amount as what needs to be predicted.  Tips are discretionary and do not have to be included in our fare estimation tool.\n",
    "\n",
    "Let's also look at the distribution of values within the columns."
   ]
  },
  {
   "cell_type": "code",
   "execution_count": 12,
   "metadata": {},
   "outputs": [
    {
     "data": {
      "text/html": [
       "<div>\n",
       "<style scoped>\n",
       "    .dataframe tbody tr th:only-of-type {\n",
       "        vertical-align: middle;\n",
       "    }\n",
       "\n",
       "    .dataframe tbody tr th {\n",
       "        vertical-align: top;\n",
       "    }\n",
       "\n",
       "    .dataframe thead th {\n",
       "        text-align: right;\n",
       "    }\n",
       "</style>\n",
       "<table border=\"1\" class=\"dataframe\">\n",
       "  <thead>\n",
       "    <tr style=\"text-align: right;\">\n",
       "      <th></th>\n",
       "      <th>pickup_longitude</th>\n",
       "      <th>pickup_latitude</th>\n",
       "      <th>dropoff_longitude</th>\n",
       "      <th>dropoff_latitude</th>\n",
       "      <th>passenger_count</th>\n",
       "      <th>trip_distance</th>\n",
       "      <th>tolls_amount</th>\n",
       "      <th>fare_amount</th>\n",
       "      <th>total_amount</th>\n",
       "    </tr>\n",
       "  </thead>\n",
       "  <tbody>\n",
       "    <tr>\n",
       "      <th>count</th>\n",
       "      <td>10716.000000</td>\n",
       "      <td>10716.000000</td>\n",
       "      <td>10716.000000</td>\n",
       "      <td>10716.000000</td>\n",
       "      <td>10716.000000</td>\n",
       "      <td>10716.000000</td>\n",
       "      <td>10716.000000</td>\n",
       "      <td>10716.000000</td>\n",
       "      <td>10716.000000</td>\n",
       "    </tr>\n",
       "    <tr>\n",
       "      <th>mean</th>\n",
       "      <td>-72.602192</td>\n",
       "      <td>40.002372</td>\n",
       "      <td>-72.594838</td>\n",
       "      <td>40.002052</td>\n",
       "      <td>1.650056</td>\n",
       "      <td>2.856395</td>\n",
       "      <td>0.226428</td>\n",
       "      <td>11.109446</td>\n",
       "      <td>13.217078</td>\n",
       "    </tr>\n",
       "    <tr>\n",
       "      <th>std</th>\n",
       "      <td>9.982373</td>\n",
       "      <td>5.474670</td>\n",
       "      <td>10.004324</td>\n",
       "      <td>5.474648</td>\n",
       "      <td>1.283577</td>\n",
       "      <td>3.322024</td>\n",
       "      <td>1.135934</td>\n",
       "      <td>9.137710</td>\n",
       "      <td>10.953156</td>\n",
       "    </tr>\n",
       "    <tr>\n",
       "      <th>min</th>\n",
       "      <td>-74.258183</td>\n",
       "      <td>0.000000</td>\n",
       "      <td>-74.260472</td>\n",
       "      <td>0.000000</td>\n",
       "      <td>0.000000</td>\n",
       "      <td>0.010000</td>\n",
       "      <td>0.000000</td>\n",
       "      <td>2.500000</td>\n",
       "      <td>2.500000</td>\n",
       "    </tr>\n",
       "    <tr>\n",
       "      <th>25%</th>\n",
       "      <td>-73.992153</td>\n",
       "      <td>40.735936</td>\n",
       "      <td>-73.991566</td>\n",
       "      <td>40.734310</td>\n",
       "      <td>1.000000</td>\n",
       "      <td>1.040000</td>\n",
       "      <td>0.000000</td>\n",
       "      <td>6.000000</td>\n",
       "      <td>7.300000</td>\n",
       "    </tr>\n",
       "    <tr>\n",
       "      <th>50%</th>\n",
       "      <td>-73.981851</td>\n",
       "      <td>40.753264</td>\n",
       "      <td>-73.980373</td>\n",
       "      <td>40.752956</td>\n",
       "      <td>1.000000</td>\n",
       "      <td>1.770000</td>\n",
       "      <td>0.000000</td>\n",
       "      <td>8.500000</td>\n",
       "      <td>10.000000</td>\n",
       "    </tr>\n",
       "    <tr>\n",
       "      <th>75%</th>\n",
       "      <td>-73.967400</td>\n",
       "      <td>40.767340</td>\n",
       "      <td>-73.964142</td>\n",
       "      <td>40.767510</td>\n",
       "      <td>2.000000</td>\n",
       "      <td>3.160000</td>\n",
       "      <td>0.000000</td>\n",
       "      <td>12.500000</td>\n",
       "      <td>14.600000</td>\n",
       "    </tr>\n",
       "    <tr>\n",
       "      <th>max</th>\n",
       "      <td>0.000000</td>\n",
       "      <td>41.366138</td>\n",
       "      <td>0.000000</td>\n",
       "      <td>41.366138</td>\n",
       "      <td>6.000000</td>\n",
       "      <td>42.800000</td>\n",
       "      <td>16.000000</td>\n",
       "      <td>179.000000</td>\n",
       "      <td>179.000000</td>\n",
       "    </tr>\n",
       "  </tbody>\n",
       "</table>\n",
       "</div>"
      ],
      "text/plain": [
       "       pickup_longitude  pickup_latitude  dropoff_longitude  dropoff_latitude  \\\n",
       "count      10716.000000     10716.000000       10716.000000      10716.000000   \n",
       "mean         -72.602192        40.002372         -72.594838         40.002052   \n",
       "std            9.982373         5.474670          10.004324          5.474648   \n",
       "min          -74.258183         0.000000         -74.260472          0.000000   \n",
       "25%          -73.992153        40.735936         -73.991566         40.734310   \n",
       "50%          -73.981851        40.753264         -73.980373         40.752956   \n",
       "75%          -73.967400        40.767340         -73.964142         40.767510   \n",
       "max            0.000000        41.366138           0.000000         41.366138   \n",
       "\n",
       "       passenger_count  trip_distance  tolls_amount   fare_amount  \\\n",
       "count     10716.000000   10716.000000  10716.000000  10716.000000   \n",
       "mean          1.650056       2.856395      0.226428     11.109446   \n",
       "std           1.283577       3.322024      1.135934      9.137710   \n",
       "min           0.000000       0.010000      0.000000      2.500000   \n",
       "25%           1.000000       1.040000      0.000000      6.000000   \n",
       "50%           1.000000       1.770000      0.000000      8.500000   \n",
       "75%           2.000000       3.160000      0.000000     12.500000   \n",
       "max           6.000000      42.800000     16.000000    179.000000   \n",
       "\n",
       "       total_amount  \n",
       "count  10716.000000  \n",
       "mean      13.217078  \n",
       "std       10.953156  \n",
       "min        2.500000  \n",
       "25%        7.300000  \n",
       "50%       10.000000  \n",
       "75%       14.600000  \n",
       "max      179.000000  "
      ]
     },
     "execution_count": 12,
     "metadata": {},
     "output_type": "execute_result"
    }
   ],
   "source": [
    "trips.describe()"
   ]
  },
  {
   "cell_type": "markdown",
   "metadata": {},
   "source": [
    "Copyright 2021 Google Inc.  Licensed under the Apache License, Version 2.0 (the \"License\"); you may not use this file except in compliance with the License. You may obtain a copy of the License at\n",
    "http://www.apache.org/licenses/LICENSE-2.0\n",
    "Unless required by applicable law or agreed to in writing, software distributed under the License is distributed on an \"AS IS\" BASIS, WITHOUT WARRANTIES OR CONDITIONS OF ANY KIND, either express or implied. See the License for the specific language governing permissions and limitations under the License."
   ]
  }
 ],
 "metadata": {
  "colab": {
   "name": "Conchita_Linear_Regression_with_Python.ipynb",
   "provenance": [],
   "toc_visible": true
  },
  "kernelspec": {
   "display_name": "Python 3 (ipykernel)",
   "language": "python",
   "name": "python3"
  },
  "language_info": {
   "codemirror_mode": {
    "name": "ipython",
    "version": 3
   },
   "file_extension": ".py",
   "mimetype": "text/x-python",
   "name": "python",
   "nbconvert_exporter": "python",
   "pygments_lexer": "ipython3",
   "version": "3.12.4"
  }
 },
 "nbformat": 4,
 "nbformat_minor": 4
}
